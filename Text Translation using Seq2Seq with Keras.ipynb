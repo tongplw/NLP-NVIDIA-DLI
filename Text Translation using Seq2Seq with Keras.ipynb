{
 "cells": [
  {
   "cell_type": "markdown",
   "metadata": {},
   "source": [
    "<img src=\"images/DLI Header.png\" alt=\"Header\" style=\"width: 400px;\"/>"
   ]
  },
  {
   "cell_type": "markdown",
   "metadata": {},
   "source": [
    "A key use case of Natural Language Processing (NLP) - often regarded as the 'Holy Grail' of the field - is the ability to have a machine automatically translate text from one language to another.  This field is known as Machine Translation (MT) and when using Neural Networks and Deep Learning, it is usually called Neural Machine Translation (NMT).\n",
    "\n",
    "Translation between languages is often difficult, even for a human.  Languages differ from each other in many ways, some more subtle than others.  An entire field of study - [Linguistic Typology](https://en.wikipedia.org/wiki/Linguistic_typology) - is dedicated to the understanding of how languages compare to each other.  As such, translation requires excellent knowledge of both source and target languages and their vagaries.\n",
    "\n",
    "With the huge amounts of textual data available today, coupled with the compute power afforded by GPUs, it is only natural that NMT will see a huge rise in usage.  In fact, a number of well-known companies offer various products in this area.\n",
    "\n",
    "In this lab we will focus on the following:\n",
    "\n",
    "1. Building a Neural Machine Translation for converting human-readable date formats to machine-readable date formats\n",
    "2. Improving the model using the concept of attention\n",
    "3. Measuring the results of Neural Machine Translation using BLEU score\n",
    "4. Real-world issues with Neural Machine Translation - Byte-Pair Encoding and Beam Search\n",
    "\n"
   ]
  },
  {
   "cell_type": "markdown",
   "metadata": {},
   "source": [
    "# Machine Translation - Some Background\n",
    "\n",
    "Machine translation belongs to a class of problems known as *Sequence-to-Sequence*. As the name implies, these problems deal with converting a *source sequence* $X$ into a *target sequence* $Y$.  Framing machine translation as a Sequence-to-Sequence (Seq-to-Seq) problem suggests that $X$ contains tokens (words or individual characters) in a source *language* while $Y$ are the equivalent tokens in the *target* language. Note that in the most general case, $X$ and $Y$ may have different lengths and equivalent tokens may even be in different locations, depending on the underlying word order of the languages involved.  \n",
    "\n",
    "In the case of NMT, we would like to learn a function $f$ that maximizes the probability of a target sequence $Y$ given the source sequence $X$.  More formally:  given $X = \\{x_1, x_2, ..., x_n\\}$ and $Y = \\{y_1, y_2, ..., y_m\\}$ we would like $f$ to maximize the following conditional probability:\n",
    "\n",
    "$$ P(y_i \\space | \\space y_{i-1}, ..., y_{1}, X) $$\n",
    "\n",
    "for every $y_i$ in $Y$. There are two important points about this expression:\n",
    "1.  We take into account information from the source sequence X.  In fact, we will use a function $g(X)$ which will *encode* X into some useful form.  \n",
    "2.  The value of the current output token $y_i$ depends on all previous output tokens.  This is where the 'sequence' nature of the problem comes from.\n",
    "\n",
    "We will be using a deep neural network to learn this function $f$."
   ]
  },
  {
   "cell_type": "markdown",
   "metadata": {},
   "source": [
    "## Lost in Translation\n",
    "\n",
    "Imagine we are tasked with translating from a language such as German to English.\n",
    "\n",
    "Below are 5 different results from different translation models. Although we don't know what the original sentence is, we can see that context can be easily figured out from the following examples when considered as a group. \n",
    "\n",
    "Translation A: I ask him whether he will once again make a stand-up comedy tour.\n",
    "\n",
    "Translation B: I ask him if he will again make a stand-up comedy tour.\n",
    "\n",
    "Translation C: I wonder him if he will ever make a booth up comedy tour.\n",
    "\n",
    "Translation D: I ask him if he will ever make a stand-up comedy tour ever.\n",
    "\n",
    "Translation E: I ask him whether he will again make a stand-up comedy tour."
   ]
  },
  {
   "cell_type": "raw",
   "metadata": {},
   "source": [
    "Rank the translations from Best to Worst\n",
    "\n",
    "Rank: Fill-in"
   ]
  },
  {
   "cell_type": "markdown",
   "metadata": {},
   "source": [
    "It should be relatively easy to spot the worst translation, as it doesn't quite make sense in English. This is the result of a completely *literal* translation that does not take context into account.\n",
    "\n",
    "Finding the worst translation was easy. On the other hand, identifying the best translation might differ from person to person since there's some subjectivity involved. Take Translation D for example: double use of 'ever' in one sentence probably lowers its score as a good English translation. Interestingly, the models producing the better translations all share an architectural detail. This is a key observation, and one that we will return to later when we discuss the *attention mechanism*.\n",
    "\n",
    "\n",
    "Run the following cell to load all the modules we will be using in this lab.\n"
   ]
  },
  {
   "cell_type": "code",
   "execution_count": 1,
   "metadata": {},
   "outputs": [
    {
     "name": "stderr",
     "output_type": "stream",
     "text": [
      "Using TensorFlow backend.\n"
     ]
    }
   ],
   "source": [
    "from keras.layers import Embedding, Bidirectional\n",
    "from keras.layers.core import *\n",
    "from keras.layers.recurrent import LSTM\n",
    "from keras.models import *\n",
    "from keras.layers.merge import Multiply\n",
    "from keras.utils import to_categorical\n",
    "from keras.layers import TimeDistributed\n",
    "from keras.backend import int_shape\n",
    "\n",
    "import keras.backend as K\n",
    "import numpy as np\n",
    "\n",
    "from faker import Faker\n",
    "import random\n",
    "from tqdm import tqdm\n",
    "from babel.dates import format_date\n",
    "from nmt_utils import *\n",
    "import matplotlib.pyplot as plt\n",
    "import pandas as pd\n",
    "\n",
    "# Setup multiple versions of OpenSeq2Seq\n",
    "\n",
    "import sys\n",
    "from importlib import import_module\n",
    "\n",
    "sys.path.append('old_s2s')\n",
    "old_run = import_module('run')\n",
    "\n",
    "sys.path.remove('old_s2s')\n",
    "sys.path.append('OpenSeq2Seq')\n",
    "new_run = import_module('run2')\n",
    "\n",
    "def run_open_seq2seq(version, args):\n",
    "    args = args.split(' ')\n",
    "    args.insert(0, '')\n",
    "    sys.argv = args\n",
    "    version.main()\n",
    "    \n",
    "    \n",
    "%matplotlib inline\n",
    "\n"
   ]
  },
  {
   "cell_type": "markdown",
   "metadata": {},
   "source": [
    "The following code runs a pre-trained translation model.  Let it run, you can open up [baseline.txt](baseline.txt) to see the translation as it's being written. Once you see \"I wonder him if he will ever make a booth up com@@ ed@@ y@@ tour .\" as the output then you can press Stop button or Interrupt Kernel. It should take about 3.5 minutes to run to reach this line. Simply eliminate the @@ characters to get the sentences used above."
   ]
  },
  {
   "cell_type": "code",
   "execution_count": 2,
   "metadata": {
    "scrolled": true
   },
   "outputs": [
    {
     "name": "stdout",
     "output_type": "stream",
     "text": [
      ">==================> Running in inference mode\n",
      ">==================> Executing training mode\n",
      ">==================> Creating data layer\n",
      "WARNING: skipped 0 pairs with max source size of 0 and max target size of 0\n",
      ">==================> Data layer created\n",
      "WARNING:tensorflow:From old_s2s/run.py:207: get_or_create_global_step (from tensorflow.contrib.framework.python.ops.variables) is deprecated and will be removed in a future version.\n",
      "Instructions for updating:\n",
      "Please switch to tf.train.get_or_create_global_step\n",
      ">==================> Building graph on GPU:0\n",
      "WARNING:tensorflow:From /usr/local/lib/python3.5/dist-packages/tensorflow/python/ops/rnn.py:430: calling reverse_sequence (from tensorflow.python.ops.array_ops) with seq_dim is deprecated and will be removed in a future version.\n",
      "Instructions for updating:\n",
      "seq_dim is deprecated, use seq_axis instead\n",
      "WARNING:tensorflow:From /usr/local/lib/python3.5/dist-packages/tensorflow/python/util/deprecation.py:454: calling reverse_sequence (from tensorflow.python.ops.array_ops) with batch_dim is deprecated and will be removed in a future version.\n",
      "Instructions for updating:\n",
      "batch_dim is deprecated, use batch_axis instead\n",
      "Inference Mode. Loss part of graph isn't built.\n",
      "INFO:tensorflow:Graph was finalized.\n",
      "INFO:tensorflow:Running local_init_op.\n",
      "INFO:tensorflow:Done running local_init_op.\n",
      ">==================> Trying to restore from: /dli/data/noatt/model-59244\n",
      "INFO:tensorflow:Restoring parameters from /dli/data/noatt/model-59244\n",
      ">==================> Saving inference results to: baseline.txt\n",
      "Prime Minister India and Japan met in Tokyo . </S> </S> </S>\n",
      "Federal Government and Bun@@ de@@ stag not joined . </S> </S> </S> </S> </S> </S> </S> </S> </S> </S> </S> </S> </S> </S> </S> </S> </S> </S> </S>\n",
      "I wonder him if he will ever make a booth up com@@ ed@@ y@@ tour . </S> </S> </S> </S> </S>\n",
      "A@@ il@@ inn Sol@@ om@@ ons was a delicate beauty with un@@ attended hair and a flat heart from a village on the G@@ ordin@@ sel , which was even remote and rough than Port Re@@ ub@@ en . </S> </S>\n",
      "Some gran@@ at@@ ers are still in my kne@@ e . </S>\n",
      "If your camera has a remote mode , using a series of images with slightly changing exposure settings , use it . </S> </S> </S> </S>\n",
      "And those who resist claims know that the time is for them , but certainly not with the pla@@ ins . </S> </S> </S>\n",
      "The villa is probably from the first to the fourth century to Christ until the invasion of the German@@ ans in the Roman R@@ land , suspec@@ ted of Mor@@ schei@@ ser . </S> </S>\n",
      "As Ro@@ d@@ gers was 13 , she believed that she believed that Fried@@ ge A@@ tax@@ ia ( F@@ As ) - a disease with very bad survival . </S> </S> </S>\n",
      "Even a year ago there was no good climate between the Burg@@ verein and the castle of Wol@@ fr@@ at@@ sh@@ au@@ sen . </S> </S> </S> </S> </S> </S>\n",
      "In the meantime , the area has reg@@ ain its importance , because , on the me@@ ado@@ ws , the me@@ ado@@ ws prevail . </S> </S> </S> </S> </S> </S> </S>\n",
      ">==================> Inference finished\n"
     ]
    }
   ],
   "source": [
    "run_open_seq2seq(\n",
    "    old_run, \n",
    "    '--config_file=old_s2s/example_configs/nmt_noatt.json --logdir=/dli/data/noatt --mode=infer --inference_out=baseline.txt')\n",
    "\n"
   ]
  },
  {
   "cell_type": "markdown",
   "metadata": {},
   "source": [
    "For this lab, we will begin with the Keras Deep-Learning framework with a Tensorflow backend. We will then switch to using [Open Seq2Seq](https://github.com/NVIDIA/OpenSeq2Seq), an NVIDIA open-source project for training sequence-to-sequence models.  In fact, the above code uses OpenSeq2Seq and by the end of this lab you will also be able to build your own machine translation models.\n"
   ]
  },
  {
   "cell_type": "markdown",
   "metadata": {},
   "source": [
    "# Translating Human-Readable Dates into Machine-Readable Dates\n",
    "\n",
    "We normally use NMT for translation between natural source and target languages.  In this section we will attempt a [toy problem](https://en.wikipedia.org/wiki/Toy_problem) in order to get a better intuition for the concepts involved.\n",
    "\n",
    "Our model translates human-readable dates such as \"the 29th of August 1958\", \"03/30/1968\" and \"24 JUNE 1987\" into a standard, machine-readable form such as \"1958-08-29\", \"1968-03-30\" and \"1987-06-24\".  We will be using a date encoding of YYYY-MM-dd, where months precede days. Make sure that you understand how this problem fits into the framework of both machine translation and sequence-to-sequence. \n",
    "\n",
    "From the File menu above, click Open and select the file nmt_utils.py.  Look in the section titled FORMATS to see the various source text patterns we will use."
   ]
  },
  {
   "cell_type": "markdown",
   "metadata": {},
   "source": [
    "Our dataset is a corpus of 10000 human readable dates and their equivalent machine readable dates. Run the following cell to load the dataset.  In particular, note the `human_vocab` and `machine_vocab` variables.  These define our source and target *vocabularies*, making our problem a character-sequence to character-sequence problem.  "
   ]
  },
  {
   "cell_type": "code",
   "execution_count": 3,
   "metadata": {},
   "outputs": [
    {
     "name": "stderr",
     "output_type": "stream",
     "text": [
      "100%|██████████| 10000/10000 [00:00<00:00, 17431.12it/s]\n"
     ]
    }
   ],
   "source": [
    "m = 10000\n",
    "dataset, human_vocab, machine_vocab, inv_machine_vocab = create_dataset(m)\n",
    "\n",
    "# Maximum sequence length\n",
    "max_sequence_length = 30\n",
    "\n",
    "\n",
    "sources, targets = zip(*dataset)\n",
    "sources = np.array([string_to_int(i, max_sequence_length, human_vocab) for i in sources])\n",
    "targets = [string_to_int(t, max_sequence_length, machine_vocab) for t in targets]\n",
    "targets = np.array(list(map(lambda x: to_categorical(x, num_classes=len(machine_vocab)), targets)))"
   ]
  },
  {
   "cell_type": "markdown",
   "metadata": {},
   "source": [
    "The following pieces of data have been loaded:\n",
    "\n",
    "- max_sequence_length: the maximum length for a character sequence\n",
    "- dataset: a list of (human-readable date, machine-readable date) pairs\n",
    "- human_vocab: a mapping between all characters that are used in the human-readable dates to their integer index values\n",
    "- machine_vocab: similar to `human_vocab`, a mapping between all characters used in the *machine-readable* dates to their integer index values\n",
    "- inv_machine_vocab: an inverse mapping of `machine_vocab` (i.e., integer to character)\n",
    "- sources: a processed version of the `dataset`'s human-readable dates.  Each character has been replaced by its index from `human_vocab`, and the resulting sequences have been padded to the length specified by `max_sequence_length`. \n",
    "- targets: a processed version of the `dataset`'s machine-readable dates.  Each character has been replaced the its index from `machine_vocab` and the sequences have been padded to the length specified by `max_sequence_length`.  Note also that the values have been 1-hot encoded, in order to use as labels in a model. \n",
    "\n",
    "The following cell selects a random value from `dataset`, and shows the way dates are encoded.  Run multiple times to see different values."
   ]
  },
  {
   "cell_type": "code",
   "execution_count": 4,
   "metadata": {},
   "outputs": [
    {
     "name": "stdout",
     "output_type": "stream",
     "text": [
      "sources shape          :  (10000, 30)\n",
      "targets shape          :  (10000, 30, 15)\n",
      "Length of human_vocab  :  62\n",
      "Length of machine_vocab:  15\n",
      "\n",
      "\n",
      "Human-readable date                 :  15 June 1995\n",
      "Machine-readable date               :  1995-06-15\n",
      "Pre-processed human-readable date   : \n",
      " [35 40 37  4 41 52 24 37 35 14 14 40  0  0  0  0  0  0  0  0  0  0  0  0\n",
      "  0  0  0  0  0  0]\n",
      "Pre-processed machine-readable date : \n",
      " [[0. 0. 0. 0. 0. 0. 0. 1. 0. 0. 0. 0. 0. 0. 0.]\n",
      " [0. 0. 0. 0. 0. 0. 0. 0. 0. 0. 0. 0. 0. 1. 0.]\n",
      " [0. 0. 0. 0. 0. 0. 0. 0. 0. 0. 0. 0. 0. 1. 0.]\n",
      " [0. 0. 0. 0. 0. 0. 0. 0. 0. 0. 0. 0. 1. 0. 0.]\n",
      " [0. 0. 0. 0. 0. 0. 0. 0. 0. 1. 0. 0. 0. 0. 0.]\n",
      " [0. 0. 0. 0. 0. 0. 0. 0. 0. 0. 0. 1. 0. 0. 0.]\n",
      " [0. 0. 0. 0. 0. 1. 0. 0. 0. 0. 0. 0. 0. 0. 0.]\n",
      " [0. 0. 0. 0. 0. 0. 0. 0. 0. 1. 0. 0. 0. 0. 0.]\n",
      " [0. 0. 0. 0. 0. 0. 0. 1. 0. 0. 0. 0. 0. 0. 0.]\n",
      " [0. 0. 0. 0. 0. 0. 0. 0. 0. 0. 0. 0. 1. 0. 0.]\n",
      " [1. 0. 0. 0. 0. 0. 0. 0. 0. 0. 0. 0. 0. 0. 0.]\n",
      " [1. 0. 0. 0. 0. 0. 0. 0. 0. 0. 0. 0. 0. 0. 0.]\n",
      " [1. 0. 0. 0. 0. 0. 0. 0. 0. 0. 0. 0. 0. 0. 0.]\n",
      " [1. 0. 0. 0. 0. 0. 0. 0. 0. 0. 0. 0. 0. 0. 0.]\n",
      " [1. 0. 0. 0. 0. 0. 0. 0. 0. 0. 0. 0. 0. 0. 0.]\n",
      " [1. 0. 0. 0. 0. 0. 0. 0. 0. 0. 0. 0. 0. 0. 0.]\n",
      " [1. 0. 0. 0. 0. 0. 0. 0. 0. 0. 0. 0. 0. 0. 0.]\n",
      " [1. 0. 0. 0. 0. 0. 0. 0. 0. 0. 0. 0. 0. 0. 0.]\n",
      " [1. 0. 0. 0. 0. 0. 0. 0. 0. 0. 0. 0. 0. 0. 0.]\n",
      " [1. 0. 0. 0. 0. 0. 0. 0. 0. 0. 0. 0. 0. 0. 0.]\n",
      " [1. 0. 0. 0. 0. 0. 0. 0. 0. 0. 0. 0. 0. 0. 0.]\n",
      " [1. 0. 0. 0. 0. 0. 0. 0. 0. 0. 0. 0. 0. 0. 0.]\n",
      " [1. 0. 0. 0. 0. 0. 0. 0. 0. 0. 0. 0. 0. 0. 0.]\n",
      " [1. 0. 0. 0. 0. 0. 0. 0. 0. 0. 0. 0. 0. 0. 0.]\n",
      " [1. 0. 0. 0. 0. 0. 0. 0. 0. 0. 0. 0. 0. 0. 0.]\n",
      " [1. 0. 0. 0. 0. 0. 0. 0. 0. 0. 0. 0. 0. 0. 0.]\n",
      " [1. 0. 0. 0. 0. 0. 0. 0. 0. 0. 0. 0. 0. 0. 0.]\n",
      " [1. 0. 0. 0. 0. 0. 0. 0. 0. 0. 0. 0. 0. 0. 0.]\n",
      " [1. 0. 0. 0. 0. 0. 0. 0. 0. 0. 0. 0. 0. 0. 0.]\n",
      " [1. 0. 0. 0. 0. 0. 0. 0. 0. 0. 0. 0. 0. 0. 0.]]\n"
     ]
    }
   ],
   "source": [
    "index = np.random.randint(m)\n",
    "\n",
    "print(\"sources shape          : \", sources.shape)\n",
    "print(\"targets shape          : \", targets.shape)\n",
    "print(\"Length of human_vocab  : \", len(human_vocab))\n",
    "print(\"Length of machine_vocab: \", len(machine_vocab))\n",
    "\n",
    "print(\"\\n\")\n",
    "print(\"Human-readable date                 : \", dataset[index][0])\n",
    "print(\"Machine-readable date               : \", dataset[index][1])\n",
    "print(\"Pre-processed human-readable date   : \\n\", sources[index])\n",
    "print(\"Pre-processed machine-readable date : \\n\", targets[index]) # 1-hot encoded\n"
   ]
  },
  {
   "cell_type": "raw",
   "metadata": {},
   "source": [
    "Before continuing, make sure you understand how the data is encoded.  What happens when the result sequence is shorter than 20 characters?\n",
    "\n",
    "Answer:  Fill-in"
   ]
  },
  {
   "cell_type": "markdown",
   "metadata": {
    "collapsed": true
   },
   "source": [
    "## Model architecture"
   ]
  },
  {
   "cell_type": "markdown",
   "metadata": {},
   "source": [
    "An often-used architecture for seq-to-seq models - and hence, NMT - is known as `encoder-decoder`.  At a high level, the following steps are carried out by this network:\n",
    "\n",
    "1.  Input - in our case, a human-readable date - is fed into the `encoder` part of the network.  The output of the encoder is one or many *state* vectors (also known as *context* vectors).  These state vectors encode a *representation* of the input data.  Each individual timestep may have its own context vector.  Alternatively, we can use the final state vector to represent the entire input.  Using the notation from the background section above:  given a sequence $X = \\{h_1, h_2, ..., h_j\\}$ - where $h_j$ is the output of the encoder DNN -  we can choose $g(X)$ to return all values in $X$ or simply choose $g(X) = h_j$.\n",
    "\n",
    "2.  The output of the encoder is fed into the *decoder* part of the network.  In other words, the decoder receives the *representations* of the input that were learned by the encoder. The output of the decoder is the final output which in our case is the machine-readable date.  The decoder uses the data encoded in the state vectors to create the output.  \n",
    "\n",
    "Since both the inputs and outputs of our model are sequences, it makes sense to use RNN's as the basis of both the encoder and decoder.  We can then train the encoder-decoder model in an end-to-end fashion so that both networks learn the relevant features.\n",
    "\n",
    "### The Encoder Network\n",
    "\n",
    "<img src=\"images/enc.png\" style=\"width:600;height:300px;\"> <br>\n",
    "<caption><center> **Figure 1**: NMT Encoder Network </center></caption>\n",
    "\n",
    "As shown in the figure, the input to the encoder is the text of the human-readable date.  Each character in the sequence is then run through an *embedding layer*.  The purpose of the embedding is to convert a sparse, 1-hot representation of the character to a dense representation which learns features about this character.  This representation is then fed into a bidirectional LSTM (Bi-LSTM).  The purpose of the Bi-LSTM is to look at a particular sequences both from front-to-back as well as from back-to-front.  In this way, the network creates a context for each character in the text that depends on both its past as well as its future.  Finally, we take the sequence of hidden states of the Bi-LSTM as our state vector list `enc_out`.\n",
    "\n",
    "### The Decoder Network\n",
    "\n",
    "<img src=\"images/dec.png\" style=\"width:500;height:300px;\"> <br>\n",
    "<caption><center> **Figure 2**: NMT Decoder Network </center></caption>\n",
    "\n",
    "The decoder receives `enc_out` as its input.  This sequence is itself run through an LSTM which produces a set of numbers.  We use the Softmax function to normalize these numbers so that we can treat them as probabilities.  It is then possible to choose the character which has the highest probability as the model output.  "
   ]
  },
  {
   "cell_type": "markdown",
   "metadata": {},
   "source": [
    "**Exercise**: Implement the `model_simple_nmt()` described in the figure below. The LSTMs both use 32 units and the embedding dimension is 64. These functions might be useful: [Input()](https://keras.io/layers/core/#input), [Embedding()](https://keras.io/layers/embeddings/), [LSTM()](https://keras.io/layers/recurrent/#lstm), [Bidirectional()](https://keras.io/layers/wrappers/#bidirectional), [Dense()](https://keras.io/layers/core/#dense), [TimeDistributed()](https://keras.io/layers/wrappers/#timedistributed), [Model()](https://keras.io/models/model/).  \n",
    "\n",
    "A solution is available in the file `solutions.py`."
   ]
  },
  {
   "cell_type": "code",
   "execution_count": 21,
   "metadata": {},
   "outputs": [],
   "source": [
    "def model_simple_nmt(human_vocab_size, machine_vocab_size, max_sequence_length = 20):\n",
    "    \"\"\"\n",
    "    Simple Neural Machine Translation model\n",
    "    \n",
    "    Arguments:\n",
    "    human_vocab_size -- size of the human vocabulary for dates, it will give us the size of the embedding layer\n",
    "    machine_vocab_size -- size of the machine vocabulary for dates, it will give us the size of the output vector\n",
    "    \n",
    "    Returns:\n",
    "    model -- model instance in Keras\n",
    "    \"\"\"\n",
    "    \n",
    "    ### START CODE HERE ###\n",
    "    # Define the input of your model with a shape (max_sequence_length,)\n",
    "    inputs = Input(shape=(max_sequence_length, )) ##TODO##\n",
    "    \n",
    "    # Define the embedding layer. Embedding dimension should be 64 and input_length set to max_sequence_length.\n",
    "    input_embed = Embedding(human_vocab_size, 64, input_length=max_sequence_length)(inputs) ##TODO##\n",
    "    \n",
    "    # Encode the embeddings using a bidirectional LSTM\n",
    "    enc_out = Bidirectional(LSTM(64, return_sequences=True))(input_embed) ##TODO##\n",
    "    \n",
    "    # Decode the encoder output using an LSTM layer\n",
    "    dec_out = LSTM(64, return_sequences=True)(enc_out) ##TODO##\n",
    "    \n",
    "    ### END CODE HERE ###\n",
    "    \n",
    "    # Apply Dense layer to every time step\n",
    "    output = TimeDistributed(Dense(machine_vocab_size, activation='softmax'))(dec_out)\n",
    "    \n",
    "    # Create model instance \n",
    "    model = Model(input=[inputs], output=output)\n",
    "\n",
    "    return model"
   ]
  },
  {
   "cell_type": "markdown",
   "metadata": {},
   "source": [
    "Run the following cell to create your `model` and compile it."
   ]
  },
  {
   "cell_type": "code",
   "execution_count": 23,
   "metadata": {},
   "outputs": [
    {
     "name": "stdout",
     "output_type": "stream",
     "text": [
      "_________________________________________________________________\n",
      "Layer (type)                 Output Shape              Param #   \n",
      "=================================================================\n",
      "input_9 (InputLayer)         (None, 30)                0         \n",
      "_________________________________________________________________\n",
      "embedding_7 (Embedding)      (None, 30, 64)            3968      \n",
      "_________________________________________________________________\n",
      "bidirectional_7 (Bidirection (None, 30, 128)           66048     \n",
      "_________________________________________________________________\n",
      "lstm_14 (LSTM)               (None, 30, 64)            49408     \n",
      "_________________________________________________________________\n",
      "time_distributed_3 (TimeDist (None, 30, 15)            975       \n",
      "=================================================================\n",
      "Total params: 120,399\n",
      "Trainable params: 120,399\n",
      "Non-trainable params: 0\n",
      "_________________________________________________________________\n"
     ]
    }
   ],
   "source": [
    "# Create model\n",
    "model = model_simple_nmt(len(human_vocab), len(machine_vocab), max_sequence_length)\n",
    "\n",
    "# Compile model\n",
    "model.compile(optimizer='rmsprop', loss='categorical_crossentropy', metrics=['accuracy'])\n",
    "\n",
    "# See the model summary\n",
    "model.summary()"
   ]
  },
  {
   "cell_type": "markdown",
   "metadata": {
    "collapsed": true
   },
   "source": [
    "Run the following cell to train the model."
   ]
  },
  {
   "cell_type": "code",
   "execution_count": 24,
   "metadata": {
    "scrolled": true
   },
   "outputs": [
    {
     "name": "stdout",
     "output_type": "stream",
     "text": [
      "Train on 7200 samples, validate on 800 samples\n",
      "Epoch 1/40\n",
      " - 11s - loss: 1.0158 - acc: 0.6865 - val_loss: 0.7861 - val_acc: 0.7473\n",
      "Epoch 2/40\n",
      " - 9s - loss: 0.7304 - acc: 0.7667 - val_loss: 0.7002 - val_acc: 0.7871\n",
      "Epoch 3/40\n",
      " - 9s - loss: 0.6700 - acc: 0.7899 - val_loss: 0.6302 - val_acc: 0.7954\n",
      "Epoch 4/40\n",
      " - 9s - loss: 0.6244 - acc: 0.7901 - val_loss: 0.5774 - val_acc: 0.7847\n",
      "Epoch 5/40\n",
      " - 9s - loss: 0.5653 - acc: 0.8043 - val_loss: 0.6005 - val_acc: 0.8174\n",
      "Epoch 6/40\n",
      " - 9s - loss: 0.4770 - acc: 0.8234 - val_loss: 0.4367 - val_acc: 0.8256\n",
      "Epoch 7/40\n",
      " - 9s - loss: 0.4261 - acc: 0.8278 - val_loss: 0.4067 - val_acc: 0.8293\n",
      "Epoch 8/40\n",
      " - 9s - loss: 0.4015 - acc: 0.8324 - val_loss: 0.3860 - val_acc: 0.8349\n",
      "Epoch 9/40\n",
      " - 9s - loss: 0.3802 - acc: 0.8404 - val_loss: 0.3906 - val_acc: 0.8338\n",
      "Epoch 10/40\n",
      " - 9s - loss: 0.3628 - acc: 0.8545 - val_loss: 0.3482 - val_acc: 0.8605\n",
      "Epoch 11/40\n",
      " - 9s - loss: 0.3303 - acc: 0.8704 - val_loss: 0.3163 - val_acc: 0.8725\n",
      "Epoch 12/40\n",
      " - 9s - loss: 0.3127 - acc: 0.8747 - val_loss: 0.3084 - val_acc: 0.8746\n",
      "Epoch 13/40\n",
      " - 9s - loss: 0.3004 - acc: 0.8795 - val_loss: 0.3177 - val_acc: 0.8725\n",
      "Epoch 14/40\n",
      " - 9s - loss: 0.2900 - acc: 0.8847 - val_loss: 0.3043 - val_acc: 0.8824\n",
      "Epoch 15/40\n",
      " - 9s - loss: 0.2806 - acc: 0.8896 - val_loss: 0.2698 - val_acc: 0.8965\n",
      "Epoch 16/40\n",
      " - 9s - loss: 0.2649 - acc: 0.8974 - val_loss: 0.2595 - val_acc: 0.9012\n",
      "Epoch 17/40\n",
      " - 9s - loss: 0.2524 - acc: 0.9035 - val_loss: 0.2406 - val_acc: 0.9071\n",
      "Epoch 18/40\n",
      " - 9s - loss: 0.2407 - acc: 0.9080 - val_loss: 0.2479 - val_acc: 0.9040\n",
      "Epoch 19/40\n",
      " - 9s - loss: 0.2313 - acc: 0.9115 - val_loss: 0.2392 - val_acc: 0.9102\n",
      "Epoch 20/40\n",
      " - 9s - loss: 0.2200 - acc: 0.9156 - val_loss: 0.2235 - val_acc: 0.9130\n",
      "Epoch 21/40\n",
      " - 9s - loss: 0.2120 - acc: 0.9191 - val_loss: 0.2234 - val_acc: 0.9132\n",
      "Epoch 22/40\n",
      " - 9s - loss: 0.2015 - acc: 0.9238 - val_loss: 0.1982 - val_acc: 0.9256\n",
      "Epoch 23/40\n",
      " - 9s - loss: 0.1910 - acc: 0.9286 - val_loss: 0.1940 - val_acc: 0.9259\n",
      "Epoch 24/40\n",
      " - 9s - loss: 0.1776 - acc: 0.9344 - val_loss: 0.1956 - val_acc: 0.9303\n",
      "Epoch 25/40\n",
      " - 9s - loss: 0.1658 - acc: 0.9393 - val_loss: 0.1723 - val_acc: 0.9364\n",
      "Epoch 26/40\n",
      " - 9s - loss: 0.1554 - acc: 0.9427 - val_loss: 0.1589 - val_acc: 0.9398\n",
      "Epoch 27/40\n",
      " - 9s - loss: 0.1446 - acc: 0.9468 - val_loss: 0.1492 - val_acc: 0.9460\n",
      "Epoch 28/40\n",
      " - 9s - loss: 0.1353 - acc: 0.9506 - val_loss: 0.1479 - val_acc: 0.9431\n",
      "Epoch 29/40\n",
      " - 9s - loss: 0.1272 - acc: 0.9537 - val_loss: 0.1245 - val_acc: 0.9541\n",
      "Epoch 30/40\n",
      " - 9s - loss: 0.1183 - acc: 0.9572 - val_loss: 0.1221 - val_acc: 0.9560\n",
      "Epoch 31/40\n",
      " - 8s - loss: 0.1104 - acc: 0.9608 - val_loss: 0.1173 - val_acc: 0.9567\n",
      "Epoch 32/40\n",
      " - 9s - loss: 0.1021 - acc: 0.9644 - val_loss: 0.1049 - val_acc: 0.9626\n",
      "Epoch 33/40\n",
      " - 8s - loss: 0.0934 - acc: 0.9685 - val_loss: 0.1042 - val_acc: 0.9632\n",
      "Epoch 34/40\n",
      " - 9s - loss: 0.0856 - acc: 0.9710 - val_loss: 0.0893 - val_acc: 0.9708\n",
      "Epoch 35/40\n",
      " - 9s - loss: 0.0778 - acc: 0.9743 - val_loss: 0.0845 - val_acc: 0.9711\n",
      "Epoch 36/40\n",
      " - 9s - loss: 0.0713 - acc: 0.9766 - val_loss: 0.0851 - val_acc: 0.9715\n",
      "Epoch 37/40\n",
      " - 9s - loss: 0.0664 - acc: 0.9778 - val_loss: 0.0681 - val_acc: 0.9770\n",
      "Epoch 38/40\n",
      " - 9s - loss: 0.0609 - acc: 0.9801 - val_loss: 0.0648 - val_acc: 0.9785\n",
      "Epoch 39/40\n",
      " - 9s - loss: 0.0565 - acc: 0.9816 - val_loss: 0.0712 - val_acc: 0.9758\n",
      "Epoch 40/40\n",
      " - 9s - loss: 0.0516 - acc: 0.9836 - val_loss: 0.0706 - val_acc: 0.9758\n"
     ]
    },
    {
     "data": {
      "text/plain": [
       "<keras.callbacks.History at 0x7f46945d7cc0>"
      ]
     },
     "execution_count": 24,
     "metadata": {},
     "output_type": "execute_result"
    }
   ],
   "source": [
    "model.fit([sources[:8000]], targets[:8000], epochs=40, batch_size=128, validation_split=0.1, verbose=2)"
   ]
  },
  {
   "cell_type": "markdown",
   "metadata": {
    "collapsed": true
   },
   "source": [
    "## Results"
   ]
  },
  {
   "cell_type": "markdown",
   "metadata": {},
   "source": [
    "We seem to have good training and validation scores.  However, we measure score for individual *output characters* and not then entire output sequence.  In other words, if a particular digit is in the right place, we consider that a success regardless of other digits in the same output expression.  This is obviously problematic: April 5 is 04-05 and not 03-05.  Nevertheless, *any* date in April - even a wrong one - is probably better than a date in May.  We'll see a better way to measure translation quality later on.\n",
    "\n",
    "In the meantime, let's see the results of our test set.\n",
    "\n",
    "\n",
    "\n"
   ]
  },
  {
   "cell_type": "code",
   "execution_count": 25,
   "metadata": {},
   "outputs": [
    {
     "name": "stdout",
     "output_type": "stream",
     "text": [
      "2000/2000 [==============================] - 1s 445us/step\n"
     ]
    }
   ],
   "source": [
    "_,accuracy = model.evaluate([sources[8000:]], targets[8000:], batch_size=128,verbose=1)"
   ]
  },
  {
   "cell_type": "code",
   "execution_count": 26,
   "metadata": {},
   "outputs": [
    {
     "name": "stdout",
     "output_type": "stream",
     "text": [
      "0.9784000015258789\n"
     ]
    }
   ],
   "source": [
    "print(accuracy)"
   ]
  },
  {
   "cell_type": "markdown",
   "metadata": {},
   "source": [
    "Not bad!  \n",
    "\n",
    "However, as we described above, we are probably not measuring things right.  Let's run some simple variations of a single date through the model to get an intuition for what the final sequences *really* look like."
   ]
  },
  {
   "cell_type": "code",
   "execution_count": 27,
   "metadata": {},
   "outputs": [
    {
     "name": "stdout",
     "output_type": "stream",
     "text": [
      "source: 03.3.2000\n",
      "output: 2000-03-03\n",
      "******\n",
      "source: 03 03 2000\n",
      "output: 2000-03-00\n",
      "******\n",
      "source: 03 mar 2000\n",
      "output: 2000-03-00\n",
      "******\n",
      "source: 03 march 2000\n",
      "output: 2000-03-03\n",
      "******\n",
      "source: march 03 2000\n",
      "output: 2000-03-00\n",
      "******\n",
      "source: march 03, 2000\n",
      "output: 2000-03-00\n",
      "******\n",
      "---------\n",
      "source: 04.4.2001\n",
      "output: 2001-04-04\n",
      "******\n",
      "source: 04 04 2001\n",
      "output: 2001-04-04\n",
      "******\n",
      "source: 03 apr 2000\n",
      "output: 2000-04-00\n",
      "******\n",
      "source: 04 april 2001\n",
      "output: 2001-04-04\n",
      "******\n",
      "source: april 04 2001\n",
      "output: 2001-04-00\n",
      "******\n",
      "source: april 04, 2001\n",
      "output: 2001-04-00\n",
      "******\n"
     ]
    }
   ],
   "source": [
    "EXAMPLES1 = ['03.3.2000', '03 03 2000', '03 mar 2000', '03 march 2000', 'march 03 2000', 'march 03, 2000' ]\n",
    "EXAMPLES2 = ['04.4.2001', '04 04 2001', '03 apr 2000', '04 april 2001', 'april 04 2001', 'april 04, 2001' ]\n",
    "\n",
    "def prediction_to_text(model_results):\n",
    "    results = np.argmax(model_results[0], axis=-1)\n",
    "    output = int_to_string(results, inv_machine_vocab)\n",
    "    return ''.join(output).replace('<pad>','')\n",
    "\n",
    "def run_examples(examples):\n",
    "    for example in examples:\n",
    "        print(\"source:\", example)\n",
    "        source = string_to_int(example, max_sequence_length, human_vocab)\n",
    "        prediction = model.predict(np.array([source]))\n",
    "        print(\"output:\", prediction_to_text(prediction))\n",
    "        print('******')\n",
    "    \n",
    "run_examples(EXAMPLES1)\n",
    "print('---------')\n",
    "run_examples(EXAMPLES2)"
   ]
  },
  {
   "cell_type": "markdown",
   "metadata": {},
   "source": [
    "There seem to be some commonalities to the mistakes that the model makes:\n",
    "* Mistakes are more common when the human-readable input text is longer\n",
    "* Mistakes are more common when information (such as the day or the year) have different positions in the sentence relative to each other.\n",
    "\n",
    "We'll now try to get some generalizations for these intuitions."
   ]
  },
  {
   "cell_type": "markdown",
   "metadata": {},
   "source": [
    "### Effect of Input Length on Model Accuracy\n",
    "\n",
    "For each instance of our training data, we'll perform the following steps:\n",
    "* Calculate the length of the human-readable form\n",
    "* Calculate whether the *entire* sequence is correct or not - that is, a single wrong digit makes the entire sequence wrong\n",
    "\n"
   ]
  },
  {
   "cell_type": "code",
   "execution_count": 28,
   "metadata": {},
   "outputs": [
    {
     "data": {
      "text/html": [
       "<div>\n",
       "<style scoped>\n",
       "    .dataframe tbody tr th:only-of-type {\n",
       "        vertical-align: middle;\n",
       "    }\n",
       "\n",
       "    .dataframe tbody tr th {\n",
       "        vertical-align: top;\n",
       "    }\n",
       "\n",
       "    .dataframe thead th {\n",
       "        text-align: right;\n",
       "    }\n",
       "</style>\n",
       "<table border=\"1\" class=\"dataframe\">\n",
       "  <thead>\n",
       "    <tr style=\"text-align: right;\">\n",
       "      <th></th>\n",
       "      <th>Source</th>\n",
       "      <th>Target</th>\n",
       "      <th>Source Length</th>\n",
       "      <th>Actual</th>\n",
       "      <th>Is Correct</th>\n",
       "    </tr>\n",
       "  </thead>\n",
       "  <tbody>\n",
       "    <tr>\n",
       "      <th>0</th>\n",
       "      <td>09 MAY 1998</td>\n",
       "      <td>1998-05-09</td>\n",
       "      <td>11</td>\n",
       "      <td>1998-05-09</td>\n",
       "      <td>True</td>\n",
       "    </tr>\n",
       "    <tr>\n",
       "      <th>1</th>\n",
       "      <td>September 10, 1970</td>\n",
       "      <td>1970-09-10</td>\n",
       "      <td>18</td>\n",
       "      <td>1970-09-11</td>\n",
       "      <td>False</td>\n",
       "    </tr>\n",
       "    <tr>\n",
       "      <th>2</th>\n",
       "      <td>28 Apr 1990</td>\n",
       "      <td>1990-04-28</td>\n",
       "      <td>11</td>\n",
       "      <td>1990-04-28</td>\n",
       "      <td>True</td>\n",
       "    </tr>\n",
       "    <tr>\n",
       "      <th>3</th>\n",
       "      <td>26 JANUARY 1995</td>\n",
       "      <td>1995-01-26</td>\n",
       "      <td>15</td>\n",
       "      <td>1995-01-26</td>\n",
       "      <td>True</td>\n",
       "    </tr>\n",
       "    <tr>\n",
       "      <th>4</th>\n",
       "      <td>7 mar 1983</td>\n",
       "      <td>1983-03-07</td>\n",
       "      <td>10</td>\n",
       "      <td>1983-03-07</td>\n",
       "      <td>True</td>\n",
       "    </tr>\n",
       "  </tbody>\n",
       "</table>\n",
       "</div>"
      ],
      "text/plain": [
       "               Source      Target  Source Length      Actual  Is Correct\n",
       "0         09 MAY 1998  1998-05-09             11  1998-05-09        True\n",
       "1  September 10, 1970  1970-09-10             18  1970-09-11       False\n",
       "2         28 Apr 1990  1990-04-28             11  1990-04-28        True\n",
       "3     26 JANUARY 1995  1995-01-26             15  1995-01-26        True\n",
       "4          7 mar 1983  1983-03-07             10  1983-03-07        True"
      ]
     },
     "execution_count": 28,
     "metadata": {},
     "output_type": "execute_result"
    }
   ],
   "source": [
    "# Import all data into a single data frame for convenience\n",
    "df = pd.DataFrame(data=dataset[:8000], columns=['Source','Target'])\n",
    "df['Source Length'] = df['Source'].apply(lambda x: len(x))\n",
    "\n",
    "# Have the model predict all training data\n",
    "model_predictions = model.predict(sources[:8000])\n",
    "df['Actual'] = [prediction_to_text([x]) for x in model_predictions]\n",
    "\n",
    "# Check if prediction matches ground truth\n",
    "df['Is Correct'] = df['Actual'] == df['Target']\n",
    "\n",
    "df.head()"
   ]
  },
  {
   "cell_type": "markdown",
   "metadata": {},
   "source": [
    "We now group by the source length, and plot the percent of model predictions that matched the ground truth targets.  As discussed, we plot the accuracy for an *entire* prediction, not just a single character."
   ]
  },
  {
   "cell_type": "code",
   "execution_count": 29,
   "metadata": {},
   "outputs": [
    {
     "data": {
      "image/png": "[encoded data removed]",
      "text/plain": [
       "<Figure size 1440x504 with 1 Axes>"
      ]
     },
     "metadata": {},
     "output_type": "display_data"
    }
   ],
   "source": [
    "if not df['Is Correct'].any():\n",
    "    print(\"Please re-train the model!\")\n",
    "else:\n",
    "    ax = pd.crosstab(df['Source Length'], df['Is Correct'], normalize='index')[True].plot(kind='line', figsize=(20,7))\n",
    "    ax.set_ylabel(\"% Correct\")\n",
    "    ax.set_xlabel(\"Input Length (characters)\");"
   ]
  },
  {
   "cell_type": "markdown",
   "metadata": {},
   "source": [
    "It would indeed appear that the model has difficulties when the source dates in human-readable format are longer."
   ]
  },
  {
   "cell_type": "markdown",
   "metadata": {},
   "source": [
    "### Effect of the Location of the Day on Model Accuracy\n",
    "\n",
    "For each training instance, let's locate the day - i.e., the *3* in *July 3* in the machine-readable format.  This is easy, as we defined this format to be in a standard form.  We'll then locate that day in the human-readable format and try to determine whether this location has any bearing on the model accuracy."
   ]
  },
  {
   "cell_type": "code",
   "execution_count": 30,
   "metadata": {},
   "outputs": [],
   "source": [
    "day_location = 8 #  Recall that the machine-readable format is YYYY-MM-DD.  We look for the index where DD begins."
   ]
  },
  {
   "cell_type": "code",
   "execution_count": 31,
   "metadata": {},
   "outputs": [
    {
     "data": {
      "text/html": [
       "<div>\n",
       "<style scoped>\n",
       "    .dataframe tbody tr th:only-of-type {\n",
       "        vertical-align: middle;\n",
       "    }\n",
       "\n",
       "    .dataframe tbody tr th {\n",
       "        vertical-align: top;\n",
       "    }\n",
       "\n",
       "    .dataframe thead th {\n",
       "        text-align: right;\n",
       "    }\n",
       "</style>\n",
       "<table border=\"1\" class=\"dataframe\">\n",
       "  <thead>\n",
       "    <tr style=\"text-align: right;\">\n",
       "      <th></th>\n",
       "      <th>Source</th>\n",
       "      <th>Target</th>\n",
       "      <th>Source Length</th>\n",
       "      <th>Actual</th>\n",
       "      <th>Is Correct</th>\n",
       "      <th>Day Location</th>\n",
       "    </tr>\n",
       "  </thead>\n",
       "  <tbody>\n",
       "    <tr>\n",
       "      <th>0</th>\n",
       "      <td>09 MAY 1998</td>\n",
       "      <td>1998-05-09</td>\n",
       "      <td>11</td>\n",
       "      <td>1998-05-09</td>\n",
       "      <td>True</td>\n",
       "      <td>1</td>\n",
       "    </tr>\n",
       "    <tr>\n",
       "      <th>1</th>\n",
       "      <td>September 10, 1970</td>\n",
       "      <td>1970-09-10</td>\n",
       "      <td>18</td>\n",
       "      <td>1970-09-11</td>\n",
       "      <td>False</td>\n",
       "      <td>10</td>\n",
       "    </tr>\n",
       "    <tr>\n",
       "      <th>2</th>\n",
       "      <td>28 Apr 1990</td>\n",
       "      <td>1990-04-28</td>\n",
       "      <td>11</td>\n",
       "      <td>1990-04-28</td>\n",
       "      <td>True</td>\n",
       "      <td>0</td>\n",
       "    </tr>\n",
       "    <tr>\n",
       "      <th>3</th>\n",
       "      <td>26 JANUARY 1995</td>\n",
       "      <td>1995-01-26</td>\n",
       "      <td>15</td>\n",
       "      <td>1995-01-26</td>\n",
       "      <td>True</td>\n",
       "      <td>0</td>\n",
       "    </tr>\n",
       "    <tr>\n",
       "      <th>4</th>\n",
       "      <td>7 mar 1983</td>\n",
       "      <td>1983-03-07</td>\n",
       "      <td>10</td>\n",
       "      <td>1983-03-07</td>\n",
       "      <td>True</td>\n",
       "      <td>0</td>\n",
       "    </tr>\n",
       "  </tbody>\n",
       "</table>\n",
       "</div>"
      ],
      "text/plain": [
       "               Source      Target  Source Length      Actual  Is Correct  \\\n",
       "0         09 MAY 1998  1998-05-09             11  1998-05-09        True   \n",
       "1  September 10, 1970  1970-09-10             18  1970-09-11       False   \n",
       "2         28 Apr 1990  1990-04-28             11  1990-04-28        True   \n",
       "3     26 JANUARY 1995  1995-01-26             15  1995-01-26        True   \n",
       "4          7 mar 1983  1983-03-07             10  1983-03-07        True   \n",
       "\n",
       "   Day Location  \n",
       "0             1  \n",
       "1            10  \n",
       "2             0  \n",
       "3             0  \n",
       "4             0  "
      ]
     },
     "execution_count": 31,
     "metadata": {},
     "output_type": "execute_result"
    }
   ],
   "source": [
    "location_data = []\n",
    "for x in df.iterrows():\n",
    "    source = x[1].Source\n",
    "    day_value = x[1].Target[day_location:day_location+2]\n",
    "    if day_value[0] == '0':\n",
    "        day_value = day_value[1]\n",
    "    day_index = source.find(day_value)\n",
    "        \n",
    "    location_data.append((day_index))\n",
    "    \n",
    "location_data = np.array(location_data)\n",
    "\n",
    "df['Day Location'] = location_data\n",
    "\n",
    "\n",
    "df.head()"
   ]
  },
  {
   "cell_type": "code",
   "execution_count": 32,
   "metadata": {},
   "outputs": [
    {
     "data": {
      "image/png": "[encoded data removed]",
      "text/plain": [
       "<Figure size 1440x504 with 1 Axes>"
      ]
     },
     "metadata": {},
     "output_type": "display_data"
    }
   ],
   "source": [
    "if not df['Is Correct'].any():\n",
    "    print(\"Please re-train the model!\")\n",
    "else:\n",
    "    ax = pd.crosstab(df['Day Location'], df['Is Correct'], normalize='index')[True].plot(kind='line', figsize=(20,7))\n",
    "    ax.set_ylabel(\"% Correct\")\n",
    "    ax.set_xlabel(\"Location of Day Component\");"
   ]
  },
  {
   "cell_type": "markdown",
   "metadata": {},
   "source": [
    "Here too it would appear that the model has difficulties the further away the day component is from the beginning of the input. \n",
    "\n",
    "Naturally, an interesting question to ask is how correlated the day component location and input length are.  Are we actually looking at the same problem?"
   ]
  },
  {
   "cell_type": "code",
   "execution_count": 33,
   "metadata": {},
   "outputs": [
    {
     "name": "stdout",
     "output_type": "stream",
     "text": [
      "Spearman correlation coefficient:  0.7610664995015789\n"
     ]
    }
   ],
   "source": [
    "# Generate the Spearman correlation coefficient between the input source length and location of the day component.\n",
    "print(\"Spearman correlation coefficient: \", np.corrcoef(df['Source Length'], df['Day Location'])[0][1])\n"
   ]
  },
  {
   "cell_type": "markdown",
   "metadata": {},
   "source": [
    "We see that there is a fair bit of correlation, but the two factors are not identical.  We can therefore conclude that the model does best on 'easy' cases where it knows precisely where every part of the human-readable date is.  If we add in some form of 'noise' - for example, moving the day or year, using a full month name or adding superfluous components such as week day names - the model gets 'confused'.  Ideally, we would like a mechanism whereby the model can *focus* or *concentrate*.  In other words - the model will recognize the day, month and year no matter where they appear in the input and ignore parts of the input that do not affect the results.\n",
    "\n",
    "Will will now see how to do this using the concept of *attention*."
   ]
  },
  {
   "cell_type": "markdown",
   "metadata": {},
   "source": [
    "# Improving Results Using Attention"
   ]
  },
  {
   "cell_type": "markdown",
   "metadata": {},
   "source": [
    "In order to explain the concept of attention, we'll try a little exercise.  Look around you and pick some object like a light switch or a chair.  Look at the object for a few seconds and focus on it completely.  Notice how this object stays sharp in your field of view, while other objects seem to just fade into the background.  Also, note that this fading is gradual - things that are closer to your object are sharper while things further away are not.\n",
    "\n",
    "This, in a nutshell, is attention - the ability to concentrate on what's relevant and ignore that which is irrelevant for the task at hand.  In Deep Learning, attention is a technique which is used to help the model focus - at every timestep - on only the relevant inputs.  For our purposes, it is the ability to focus on specific tokens while ignoring the rest.  To be more precise, we'll be using *soft-attention* - that is, we will not ignore tokens completely but rather assign them *weights* that determine how much the model should focus on them at any moment in time.\n",
    "\n"
   ]
  },
  {
   "cell_type": "markdown",
   "metadata": {},
   "source": [
    "## Attention Models"
   ]
  },
  {
   "cell_type": "markdown",
   "metadata": {
    "collapsed": true
   },
   "source": [
    "<img src=\"images/NMT_Components.png\" style=\"width:600;height:300px;\"> <br>\n",
    "<caption><center> **Figure 3**: Attention NMT model</center></caption>\n",
    "\n",
    "As we've seen, we input the human-readable date to the encoder's Bi-LSTM network and take the resulting state vectors as the input to the decoder.  What we would like to do is - for every character in the output (that is for every timestep of the decoder) - have the model focus on the state vector that is most helpful *right now*.  Adding an attention block between the encoder and decoder does just that.\n",
    "\n",
    "<img src=\"images/Attention_mechanism.png\" style=\"width:600;height:300px;\"> <br>\n",
    "<caption><center> **Figure 4**: Attention Implementation</center>\n",
    "    <center><i><a href='https://arxiv.org/abs/1409.0473'>Source: Dmzimtry Bahdanau, Kyung Hyun Cho and Yoshua Bengio, Neural Machine Translation by Jointly Learning to Align and Translate</a> </i> </center>\n",
    "</caption>\n",
    "\n"
   ]
  },
  {
   "cell_type": "markdown",
   "metadata": {},
   "source": [
    "In the above figure we can see the details of the attention block.  Each hidden state $h_i$ is composed of the combined output of the forwards and backwards LSTM (i.e., a Bi-LSTM). Furthermore, each such state has an associated weight at each timestep (the $\\alpha_t$ values). This weighted sum of the states, along with the hidden state of the decoder network at time $t-1$, along with the output of the decoder at $t-1$, are used to calculate the output of the decoder at time $t$.  $\\alpha_t$'s are calculated using an *alignment model*, which learns which encoder state ($h_j$) is relevant at what point in the decoder.\n",
    "\n",
    "\n",
    "Attention is a general mechanism - the above is one way of implementing this 'focusing' behavior, known as *Bahdanau Attention*.  Another popular implementation is described [here](https://arxiv.org/abs/1508.04025) and is known as *Luong Attention*.  \n",
    "\n",
    "While the concept of attention is not difficult to describe, its technical implementation is not trivial.  Rather than implementing it ourselves, we'll use ready-made implementations that are freely available in NVIDIA's open-source Seq2Seq toolkit, appropriately named Open Seq2Seq."
   ]
  },
  {
   "cell_type": "markdown",
   "metadata": {},
   "source": [
    "## Applying Open Seq2Seq to the Dates Problem\n"
   ]
  },
  {
   "cell_type": "markdown",
   "metadata": {},
   "source": [
    "[Open Seq2Seq](https://github.com/NVIDIA/OpenSeq2Seq) is a Tensorflow-based toolkit for sequence-to-sequence problems that use the encoder-decoder architecture.  It contains models for machine translation, as well as speech-to-text, text-to-speech and image captioning.  As part of these models, Open Seq2Seq provides generic implementation for various types of encoders, decoders, loss functions and attention mechanism implementations.  \n",
    "\n",
    "In order to work with Open Seq2Seq, we need the following files:\n",
    "* Source sequences - Each line in this file contains a source sequence to be used as input.  In our case, this is the human-readable date.  \n",
    "* Target sequences - Each line in this file contains a target sequence to be used as the required output.  In our case, this is the machine-readable date.  \n",
    "* Source vocabulary - The individual tokens that make up the source sequences.  In our case - since we are 'translating' individual characters - these will be individual letters, numbers and symbols.  In more general cases, this vocabulary will contain individual words.  Note that this vocabulary also contains several special tokens for marking padding, beginning and end-of-sentence tokens.\n",
    "* Target vocabulary - The individual tokens that make up the target sequences.  In our case, these will be numbers and the dash symbol, along with the special tokens described above.\n",
    "\n",
    "The following code generates all of the required files in the `dates` directory.  We create source and target files for both a training and a test set.  An interesting implementation detail is the way we split our dates into individual characters:  since the whitespace character is a valid token in the human-readable date, we use the pipe symbol (|) as the delimiter between characters.\n",
    "\n",
    "Run the following code, and inspect the files that are generated in the `dates` directory."
   ]
  },
  {
   "cell_type": "code",
   "execution_count": 34,
   "metadata": {},
   "outputs": [],
   "source": [
    "import os\n",
    "if not os.path.exists('./dates'):\n",
    "    os.makedirs('./dates')\n",
    "\n",
    "\n",
    "def save_data(filename, data):\n",
    "    with open('dates/' + filename + '.txt', 'w') as f:\n",
    "        for x in data:\n",
    "            f.write(x)\n",
    "            f.write(\"\\n\")\n",
    "            \n",
    "save_data('source_train', map(lambda x: '|'.join(x[0]), dataset[:8000]))\n",
    "save_data('target_train', map(lambda x: '|'.join(x[1]), dataset[:8000]))\n",
    "save_data('source_test', map(lambda x: '|'.join(x[0]), dataset[8000:]))\n",
    "save_data('target_test', map(lambda x: '|'.join(x[1]), dataset[8000:]))\n",
    "save_data('source_vocab', [key for key,value in sorted(human_vocab.items(), key=lambda x: x[1])])\n",
    "save_data('target_vocab', [key for key,value in sorted(machine_vocab.items(), key=lambda x: x[1])])\n",
    "\n"
   ]
  },
  {
   "cell_type": "markdown",
   "metadata": {},
   "source": [
    "As part of its distribution, Open Seq2Seq provides a generic execution engine that can be configured for the appropriate use-case.  Open the `dates_config.py` - you can see that the configuration is in fact a set of python dictionaries that define model type and architecture.\n",
    "\n",
    "In particular, note the following sections in the configuration:\n",
    "\n",
    "*  `base_params` - This section defines parameters such as the number of GPUs to use for training, the number of epochs, the optimizer and learning rate and when to print statistics and/or save temporary models.\n",
    "*  `encoder` - This section defines the encoder part of the architecture.  In our case, we use an encoder that contains a Bi-LSTM with Embedding, with the layer count as well as the LSTM and embedding sizes that match our hand-coded model from above.\n",
    "*  `decoder` - This section defines the decoder part of the architecture.  In our case, we use a decoder that contains a regular LSTM with Bahdanau attention.  In addition to the number of layers and LSTM and embedding sizes, you can also the definition of the special tokens we described in the vocabulary section above.  \n",
    "*  `train_params` - This section defines the source of the training data.  Here you can find the source and target sequences as well as the vocabulary files and the delimiter definition.\n",
    "* `infer_params` - This section defines the model used during inference, as opposed to training.  Note that we use a different decoder during inference - rather than just an LSTM and attention, we also apply Beam Search (see below) to find the best sequence. Other than that, the changes from the previous sections are around the use of different source and target sequence files.\n",
    "\n",
    "For completeness, it should also be mentioned that there is also an `eval_params` section that can be used to perform evaluation during and/or after training.  We will use it a little later on.\n",
    "\n",
    "Run the following code to train the model using attention.  Notice the train loss values, as well as the sample source, target and prediction texts that the model displays as it's running.  We are using the same parameters as before, but now the model should rapidly converge.  \n",
    "\n",
    "(Note:  if you'd like to run this multiple times, uncomment the following cell and run it so that it deletes the `dates_log` directory before each training run.)"
   ]
  },
  {
   "cell_type": "code",
   "execution_count": 35,
   "metadata": {},
   "outputs": [],
   "source": [
    "!rm -rf ./dates_log"
   ]
  },
  {
   "cell_type": "code",
   "execution_count": 36,
   "metadata": {},
   "outputs": [
    {
     "name": "stdout",
     "output_type": "stream",
     "text": [
      "*** Starting training from scratch\n",
      "*** Training config:\n",
      "{'batch_size_per_gpu': 128,\n",
      " 'data_layer': <class 'open_seq2seq2.data.text2text.text2text.ParallelTextDataLayer'>,\n",
      " 'data_layer_params': {'delimiter': '|',\n",
      "                       'map_parallel_calls': 16,\n",
      "                       'max_length': 60,\n",
      "                       'prefetch_buffer_size': 2,\n",
      "                       'repeat': True,\n",
      "                       'shuffle': True,\n",
      "                       'source_file': 'dates/source_train.txt',\n",
      "                       'src_vocab_file': 'dates/source_vocab.txt',\n",
      "                       'target_file': 'dates/target_train.txt',\n",
      "                       'tgt_vocab_file': 'dates/target_vocab.txt'},\n",
      " 'decoder': <class 'open_seq2seq2.decoders.rnn_decoders.RNNDecoderWithAttention'>,\n",
      " 'decoder_params': {'END_SYMBOL': 1,\n",
      "                    'GO_SYMBOL': 2,\n",
      "                    'PAD_SYMBOL': 0,\n",
      "                    'attention_layer_size': 128,\n",
      "                    'attention_type': 'bahdanau',\n",
      "                    'core_cell': <class 'tensorflow.python.ops.rnn_cell_impl.LSTMCell'>,\n",
      "                    'core_cell_params': {'forget_bias': 1.0, 'num_units': 32},\n",
      "                    'decoder_dp_input_keep_prob': 0.8,\n",
      "                    'decoder_dp_output_keep_prob': 1.0,\n",
      "                    'decoder_layers': 1,\n",
      "                    'decoder_use_skip_connections': False,\n",
      "                    'initializer': <function glorot_uniform_initializer at 0x7f46bd4ad2f0>,\n",
      "                    'tgt_emb_size': 64},\n",
      " 'dtype': tf.float32,\n",
      " 'encoder': <class 'open_seq2seq2.encoders.rnn_encoders.BidirectionalRNNEncoderWithEmbedding'>,\n",
      " 'encoder_params': {'core_cell': <class 'tensorflow.python.ops.rnn_cell_impl.LSTMCell'>,\n",
      "                    'core_cell_params': {'forget_bias': 1.0, 'num_units': 32},\n",
      "                    'encoder_dp_input_keep_prob': 0.8,\n",
      "                    'encoder_dp_output_keep_prob': 1.0,\n",
      "                    'encoder_layers': 1,\n",
      "                    'encoder_use_skip_connections': False,\n",
      "                    'initializer': <function glorot_uniform_initializer at 0x7f46bd4ad2f0>,\n",
      "                    'src_emb_size': 64},\n",
      " 'load_model': '',\n",
      " 'logdir': 'dates_log',\n",
      " 'loss': <class 'open_seq2seq2.losses.sequence_loss.BasicSequenceLoss'>,\n",
      " 'loss_params': {'average_across_timestep': False,\n",
      "                 'do_mask': True,\n",
      "                 'offset_target_by_one': True},\n",
      " 'lr_policy': <function fixed_lr at 0x7f4620c177b8>,\n",
      " 'lr_policy_params': {'learning_rate': 0.001},\n",
      " 'num_epochs': 40,\n",
      " 'num_gpus': 1,\n",
      " 'optimizer': 'RMSProp',\n",
      " 'optimizer_params': {},\n",
      " 'print_loss_steps': 500,\n",
      " 'print_samples_steps': 500,\n",
      " 'save_checkpoint_steps': 2500,\n",
      " 'use_horovod': False}\n",
      "*** Building graph on GPU:0\n",
      "*** Trainable variables:\n",
      "***   ForwardPass/bidir_rnn_encoder_with_emb/EncoderEmbeddingMatrix:0\n",
      "***     shape: (62, 64), <dtype: 'float32_ref'>\n",
      "***   ForwardPass/bidir_rnn_encoder_with_emb/bidirectional_rnn/fw/multi_rnn_cell/cell_0/lstm_cell/kernel:0\n",
      "***     shape: (96, 128), <dtype: 'float32_ref'>\n",
      "***   ForwardPass/bidir_rnn_encoder_with_emb/bidirectional_rnn/fw/multi_rnn_cell/cell_0/lstm_cell/bias:0\n",
      "***     shape: (128,), <dtype: 'float32_ref'>\n",
      "***   ForwardPass/bidir_rnn_encoder_with_emb/bidirectional_rnn/bw/multi_rnn_cell/cell_0/lstm_cell/kernel:0\n",
      "***     shape: (96, 128), <dtype: 'float32_ref'>\n",
      "***   ForwardPass/bidir_rnn_encoder_with_emb/bidirectional_rnn/bw/multi_rnn_cell/cell_0/lstm_cell/bias:0\n",
      "***     shape: (128,), <dtype: 'float32_ref'>\n",
      "***   ForwardPass/rnn_decoder_with_attention/DecoderEmbeddingMatrix:0\n",
      "***     shape: (15, 64), <dtype: 'float32_ref'>\n",
      "***   ForwardPass/rnn_decoder_with_attention/AttentionMechanism/memory_layer/kernel:0\n",
      "***     shape: (64, 128), <dtype: 'float32_ref'>\n",
      "***   ForwardPass/rnn_decoder_with_attention/decoder/attention_wrapper/multi_rnn_cell/cell_0/lstm_cell/kernel:0\n",
      "***     shape: (160, 128), <dtype: 'float32_ref'>\n",
      "***   ForwardPass/rnn_decoder_with_attention/decoder/attention_wrapper/multi_rnn_cell/cell_0/lstm_cell/bias:0\n",
      "***     shape: (128,), <dtype: 'float32_ref'>\n",
      "***   ForwardPass/rnn_decoder_with_attention/decoder/attention_wrapper/bahdanau_attention/query_layer/kernel:0\n",
      "***     shape: (32, 128), <dtype: 'float32_ref'>\n",
      "***   ForwardPass/rnn_decoder_with_attention/decoder/attention_wrapper/bahdanau_attention/attention_v:0\n",
      "***     shape: (128,), <dtype: 'float32_ref'>\n",
      "***   ForwardPass/rnn_decoder_with_attention/decoder/dense/kernel:0\n",
      "***     shape: (64, 15), <dtype: 'float32_ref'>\n",
      "*** Total trainable parameters: 63744\n",
      "INFO:tensorflow:Create CheckpointSaverHook.\n",
      "INFO:tensorflow:Graph was finalized.\n",
      "INFO:tensorflow:Running local_init_op.\n",
      "INFO:tensorflow:Done running local_init_op.\n",
      "INFO:tensorflow:Saving checkpoints for 0 into dates_log/model.ckpt.\n",
      "*** Epoch 0, global step 0: ***     Train loss: 29.7676 \n",
      "time per step = 0:00:0.010\n",
      "***     Train Source[0]:     <s>|S|e|p|t|e|m|b|e|r|<unk>|1|4|,|<unk>|1|9|8|9|<eos>\n",
      "***     Train Target[0]:     <s>|1|9|8|9|-|0|9|-|1|4|<eos>\n",
      "***     Train Prediction[0]: 5|5|5|5|5|5|5|5|5|5|5|5\n",
      "*** Epoch 8, global step 500: ***     Train loss: 8.6380 \n",
      "time per step = 0:00:0.094\n",
      "***     Train Source[0]:     <s>|1|<unk>|A|U|G|U|S|T|<unk>|1|9|9|4|<eos>\n",
      "***     Train Target[0]:     <s>|1|9|9|4|-|0|8|-|0|1|<eos>\n",
      "***     Train Prediction[0]: 1|9|9|8|-|0|8|-|0|8|<eos>|<eos>\n",
      "*** Epoch 16, global step 1000: ***     Train loss: 0.6085 \n",
      "time per step = 0:00:0.092\n",
      "***     Train Source[0]:     <s>|0|1|<unk>|A|p|r|<unk>|2|0|1|6|<eos>\n",
      "***     Train Target[0]:     <s>|2|0|1|6|-|0|4|-|0|1|<eos>\n",
      "***     Train Prediction[0]: 2|0|1|6|-|0|4|-|0|1|<eos>|0\n",
      "*** Epoch 24, global step 1500: ***     Train loss: 0.1091 \n",
      "time per step = 0:00:0.093\n",
      "***     Train Source[0]:     <s>|1|5|.|0|8|.|9|8|<eos>\n",
      "***     Train Target[0]:     <s>|1|9|9|8|-|0|8|-|1|5|<eos>\n",
      "***     Train Prediction[0]: 1|9|9|8|-|0|8|-|1|5|<eos>|1\n",
      "*** Epoch 32, global step 2000: ***     Train loss: 0.0174 \n",
      "time per step = 0:00:0.093\n",
      "***     Train Source[0]:     <s>|N|O|V|E|M|B|E|R|<unk>|7|,|<unk>|2|0|1|4|<eos>\n",
      "***     Train Target[0]:     <s>|2|0|1|4|-|1|1|-|0|7|<eos>\n",
      "***     Train Prediction[0]: 2|0|1|4|-|1|1|-|0|7|<eos>|0\n",
      "INFO:tensorflow:Saving checkpoints for 2480 into dates_log/model.ckpt.\n",
      "*** Finished training\n",
      "*** Avg time per step: 0.092s\n",
      "*** Avg objects per second: 36820.293\n",
      "CPU times: user 8min 10s, sys: 37.8 s, total: 8min 48s\n",
      "Wall time: 3min 59s\n"
     ]
    }
   ],
   "source": [
    "%%time\n",
    "\n",
    "run_open_seq2seq(\n",
    "    new_run, \n",
    "    '--config_file=dates_config.py --mode=train')"
   ]
  },
  {
   "cell_type": "markdown",
   "metadata": {},
   "source": [
    "We have trained the model using 80% of the data in our original toy dataset.  We will now run inference on the remaining 20% and apply the same metrics as before - namely, whether the sequences are correct or not and how correctness varies with input length. \n",
    "\n",
    "In order to perform inference we use the same configuration as before, setting the `mode` parameter to *infer* rather than *train*.  The output of inference is written to a file named `infer-out.txt`.  Run the following three cells in order and compare the resulting plot to the one generated by the hand-coded model.  "
   ]
  },
  {
   "cell_type": "code",
   "execution_count": 37,
   "metadata": {},
   "outputs": [
    {
     "name": "stdout",
     "output_type": "stream",
     "text": [
      "*** Restoring from the latest checkpoint\n",
      "*** Loading model from dates_log/model.ckpt-2480\n",
      "*** Inference config:\n",
      "{'batch_size_per_gpu': 1,\n",
      " 'data_layer': <class 'open_seq2seq2.data.text2text.text2text.ParallelTextDataLayer'>,\n",
      " 'data_layer_params': {'delimiter': '|',\n",
      "                       'map_parallel_calls': 16,\n",
      "                       'max_length': 60,\n",
      "                       'prefetch_buffer_size': 2,\n",
      "                       'repeat': False,\n",
      "                       'shuffle': False,\n",
      "                       'source_file': 'dates/source_test.txt',\n",
      "                       'src_vocab_file': 'dates/source_vocab.txt',\n",
      "                       'target_file': 'dates/source_test.txt',\n",
      "                       'tgt_vocab_file': 'dates/target_vocab.txt'},\n",
      " 'decoder': <class 'open_seq2seq2.decoders.rnn_decoders.BeamSearchRNNDecoderWithAttention'>,\n",
      " 'decoder_params': {'END_SYMBOL': 1,\n",
      "                    'GO_SYMBOL': 2,\n",
      "                    'PAD_SYMBOL': 0,\n",
      "                    'attention_layer_size': 128,\n",
      "                    'attention_type': 'bahdanau',\n",
      "                    'beam_width': 1,\n",
      "                    'core_cell': <class 'tensorflow.python.ops.rnn_cell_impl.LSTMCell'>,\n",
      "                    'core_cell_params': {'forget_bias': 1.0, 'num_units': 32},\n",
      "                    'decoder_dp_input_keep_prob': 0.8,\n",
      "                    'decoder_dp_output_keep_prob': 1.0,\n",
      "                    'decoder_layers': 1,\n",
      "                    'decoder_use_skip_connections': False,\n",
      "                    'initializer': <function glorot_uniform_initializer at 0x7f46bd4ad2f0>,\n",
      "                    'length_penalty': 0.0,\n",
      "                    'tgt_emb_size': 64},\n",
      " 'dtype': tf.float32,\n",
      " 'encoder': <class 'open_seq2seq2.encoders.rnn_encoders.BidirectionalRNNEncoderWithEmbedding'>,\n",
      " 'encoder_params': {'core_cell': <class 'tensorflow.python.ops.rnn_cell_impl.LSTMCell'>,\n",
      "                    'core_cell_params': {'forget_bias': 1.0, 'num_units': 32},\n",
      "                    'encoder_dp_input_keep_prob': 0.8,\n",
      "                    'encoder_dp_output_keep_prob': 1.0,\n",
      "                    'encoder_layers': 1,\n",
      "                    'encoder_use_skip_connections': False,\n",
      "                    'initializer': <function glorot_uniform_initializer at 0x7f46bd4ad2f0>,\n",
      "                    'src_emb_size': 64},\n",
      " 'load_model': '',\n",
      " 'logdir': 'dates_log',\n",
      " 'loss': <class 'open_seq2seq2.losses.sequence_loss.BasicSequenceLoss'>,\n",
      " 'loss_params': {'average_across_timestep': False,\n",
      "                 'do_mask': True,\n",
      "                 'offset_target_by_one': True},\n",
      " 'lr_policy': <function fixed_lr at 0x7f4620c177b8>,\n",
      " 'lr_policy_params': {'learning_rate': 0.001},\n",
      " 'num_epochs': 40,\n",
      " 'num_gpus': 1,\n",
      " 'optimizer': 'RMSProp',\n",
      " 'optimizer_params': {},\n",
      " 'print_loss_steps': 500,\n",
      " 'print_samples_steps': 500,\n",
      " 'save_checkpoint_steps': 2500,\n",
      " 'use_horovod': False}\n",
      "*** Building graph on GPU:0\n",
      "*** Inference Mode. Loss part of graph isn't built.\n",
      "INFO:tensorflow:Restoring parameters from dates_log/model.ckpt-2480\n",
      "*** Processed 1/2000 batches\n",
      "*** Processed 200/2000 batches\n",
      "*** Processed 400/2000 batches\n",
      "*** Processed 600/2000 batches\n",
      "*** Processed 800/2000 batches\n",
      "*** Processed 1000/2000 batches\n",
      "*** Processed 1200/2000 batches\n",
      "*** Processed 1400/2000 batches\n",
      "*** Processed 1600/2000 batches\n",
      "*** Processed 1800/2000 batches\n",
      "*** Processed 2000/2000 batches\n",
      "*** Processed 2000/2000 batches\n",
      "*** Avg time per step: 0.0363s\n",
      "*** Avg objects per second: 740.564\n",
      "*** Input sequence:  2 1 . 1 0 . 7 1\n",
      "*** Output sequence: 1 9 7 1 - 1 0 - 2 1\n",
      "*** \n",
      "*** Input sequence:  3 0 <unk> o c t , <unk> 1 9 7 2\n",
      "*** Output sequence: 1 9 7 2 - 1 0 - 3 0\n",
      "*** \n",
      "*** Input sequence:  9 <unk> J a n u a r y , <unk> 2 0 1 0\n",
      "*** Output sequence: 2 0 1 0 - 0 1 - 0 9\n",
      "*** \n",
      "*** Input sequence:  1 <unk> o c t o b e r <unk> 2 0 1 5\n",
      "*** Output sequence: 2 0 1 5 - 1 0 - 0 1\n",
      "*** \n",
      "*** Input sequence:  3 0 <unk> A U G , <unk> 2 0 0 4\n",
      "*** Output sequence: 2 0 0 4 - 0 8 - 3 0\n",
      "*** \n",
      "*** Input sequence:  W e d n e s d a y , <unk> J u l y <unk> 3 0 , <unk> 1 9 8 6\n",
      "*** Output sequence: 1 9 8 6 - 0 7 - 3 0\n",
      "*** \n",
      "*** Input sequence:  2 6 <unk> 0 6 <unk> 0 7\n",
      "*** Output sequence: 2 0 0 7 - 0 6 - 2 6\n",
      "*** \n",
      "*** Input sequence:  1 9 , <unk> j u l <unk> 1 9 9 9\n",
      "*** Output sequence: 1 9 9 9 - 0 7 - 1 9\n",
      "*** \n",
      "*** Input sequence:  J u n e <unk> 1 3 , <unk> 1 9 7 0\n",
      "*** Output sequence: 1 9 7 0 - 0 6 - 1 3\n",
      "*** \n",
      "*** Input sequence:  A p r i l <unk> 1 9 <unk> 1 9 8 0\n",
      "*** Output sequence: 1 9 8 0 - 0 4 - 1 9\n",
      "*** \n",
      "*** Finished inference\n",
      "CPU times: user 3min 12s, sys: 21.2 s, total: 3min 33s\n",
      "Wall time: 1min 14s\n"
     ]
    }
   ],
   "source": [
    "%%time\n",
    "\n",
    "run_open_seq2seq(\n",
    "    new_run, \n",
    "    '--config_file=dates_config.py --mode=infer')"
   ]
  },
  {
   "cell_type": "code",
   "execution_count": 38,
   "metadata": {},
   "outputs": [
    {
     "name": "stdout",
     "output_type": "stream",
     "text": [
      "Accuracy: 1.0\n"
     ]
    },
    {
     "data": {
      "text/html": [
       "<div>\n",
       "<style scoped>\n",
       "    .dataframe tbody tr th:only-of-type {\n",
       "        vertical-align: middle;\n",
       "    }\n",
       "\n",
       "    .dataframe tbody tr th {\n",
       "        vertical-align: top;\n",
       "    }\n",
       "\n",
       "    .dataframe thead th {\n",
       "        text-align: right;\n",
       "    }\n",
       "</style>\n",
       "<table border=\"1\" class=\"dataframe\">\n",
       "  <thead>\n",
       "    <tr style=\"text-align: right;\">\n",
       "      <th></th>\n",
       "      <th>Source</th>\n",
       "      <th>Target</th>\n",
       "      <th>Actual</th>\n",
       "      <th>Is Correct</th>\n",
       "      <th>Source Length</th>\n",
       "    </tr>\n",
       "  </thead>\n",
       "  <tbody>\n",
       "    <tr>\n",
       "      <th>0</th>\n",
       "      <td>21.10.71</td>\n",
       "      <td>1971-10-21</td>\n",
       "      <td>1971-10-21</td>\n",
       "      <td>True</td>\n",
       "      <td>8</td>\n",
       "    </tr>\n",
       "    <tr>\n",
       "      <th>1</th>\n",
       "      <td>SEPTEMBER 19, 1982</td>\n",
       "      <td>1982-09-19</td>\n",
       "      <td>1982-09-19</td>\n",
       "      <td>True</td>\n",
       "      <td>18</td>\n",
       "    </tr>\n",
       "    <tr>\n",
       "      <th>2</th>\n",
       "      <td>Thursday, December 3, 1992</td>\n",
       "      <td>1992-12-03</td>\n",
       "      <td>1992-12-03</td>\n",
       "      <td>True</td>\n",
       "      <td>26</td>\n",
       "    </tr>\n",
       "    <tr>\n",
       "      <th>3</th>\n",
       "      <td>December 22, 1976</td>\n",
       "      <td>1976-12-22</td>\n",
       "      <td>1976-12-22</td>\n",
       "      <td>True</td>\n",
       "      <td>17</td>\n",
       "    </tr>\n",
       "    <tr>\n",
       "      <th>4</th>\n",
       "      <td>27 11 89</td>\n",
       "      <td>1989-11-27</td>\n",
       "      <td>1989-11-27</td>\n",
       "      <td>True</td>\n",
       "      <td>8</td>\n",
       "    </tr>\n",
       "  </tbody>\n",
       "</table>\n",
       "</div>"
      ],
      "text/plain": [
       "                       Source      Target      Actual  Is Correct  \\\n",
       "0                    21.10.71  1971-10-21  1971-10-21        True   \n",
       "1          SEPTEMBER 19, 1982  1982-09-19  1982-09-19        True   \n",
       "2  Thursday, December 3, 1992  1992-12-03  1992-12-03        True   \n",
       "3           December 22, 1976  1976-12-22  1976-12-22        True   \n",
       "4                    27 11 89  1989-11-27  1989-11-27        True   \n",
       "\n",
       "   Source Length  \n",
       "0              8  \n",
       "1             18  \n",
       "2             26  \n",
       "3             17  \n",
       "4              8  "
      ]
     },
     "execution_count": 38,
     "metadata": {},
     "output_type": "execute_result"
    }
   ],
   "source": [
    "df = pd.concat([\n",
    "    pd.DataFrame(dataset[8000:], columns=['Source', 'Target']), \n",
    "    pd.read_csv('infer-out.txt', names=['Actual'], header=None) \n",
    "], axis=1)\n",
    "df['Actual'] = df['Actual'].str.replace(' ','')\n",
    "df['Is Correct'] = df['Actual'] == df['Target']\n",
    "df['Source Length'] = df['Source'].apply(lambda x: len(x))\n",
    "\n",
    "\n",
    "\n",
    "print(\"Accuracy: {}\".format(df['Is Correct'].sum() / len(df)))\n",
    "df.head()"
   ]
  },
  {
   "cell_type": "code",
   "execution_count": 39,
   "metadata": {},
   "outputs": [
    {
     "data": {
      "image/png": "[encoded data removed]",
      "text/plain": [
       "<Figure size 1440x504 with 1 Axes>"
      ]
     },
     "metadata": {},
     "output_type": "display_data"
    }
   ],
   "source": [
    "if not df['Is Correct'].any():\n",
    "    print(\"Please re-train the model!\")\n",
    "else:\n",
    "    ax = pd.crosstab(df['Source Length'], df['Is Correct'], normalize='index')[True].plot(kind='line', figsize=(20,7))\n",
    "    ax.set_ylabel(\"% Correct\")\n",
    "    ax.set_xlabel(\"Input Length (characters)\");"
   ]
  },
  {
   "cell_type": "markdown",
   "metadata": {},
   "source": [
    "## A Better Score Metric"
   ]
  },
  {
   "cell_type": "markdown",
   "metadata": {},
   "source": [
    "As discussed above, we use a character-by-character comparison to measure the date translation problem's accuracy.  For this problem, such a measure of success is sensible, as there is only one possible output 'translation'.  When dealing with real-world machine translation tasks, however, measuring results in this way is not a good idea.  To illustrate why, let's consider a slight modification on our date translation problem.\n",
    "\n",
    "In our problem statement, we wish to translate from a human-readable format to a *specific* machine readable format, namely YYYY-MM-dd.  Similarly, we could have used a different format, such as dd-MM-YYYY.  So for a date such as 'January 12, 1984' we could have several translations.  For example:\n",
    "\n",
    "* 1984-01-12 (YYYY-MM-dd)\n",
    "* 12-01-1984 (dd-MM-YYYY)\n",
    "* 1984-12-01 (YYYY-dd-MM)\n",
    "\n",
    "or any other such variant.  Unless stated explicitly, all machine-readable formats can be considered to be equally good translations.  Naturally, this applies even more strongly to human language: different people may translate the same source-language sentence to multiple variants in the target language.  Can we distinctly say which one is 'better' or 'worse'?  For example, here are some English translations of a Chinese sentence (taken from the original BLEU paper - see below):\n",
    "\n",
    "* It is a guide to action that ensures that the military will forever heed Party commands.\n",
    "* It is the guiding principle which guarantees the military forces always being under the command of the Party.\n",
    "* It is the practical guide for the army always to heed the directions of the party.\n",
    "\n",
    "We can see that a better metric is needed for measuring machine translation results than just plain 'is this character in the right spot'.  This metric is known as the [Bilingual Evaluation Understudy](https://en.wikipedia.org/wiki/BLEU), or BLEU, score.  We will implement BLEU below.  For now, let's get some intuition on the BLEU scores for our toy problem.  In the process, we'll also get to see some more features of Open Seq2Seq.\n",
    "\n",
    "__Exercise__:  Open the file `dates_eval_config.py` and complete the missing pieces in the `eval_params` section.  Use the *test* versions of the source and target files. Run the following cells to re-train the model and observe the BLEU scores during training.  A completed file is available in `dates_eval_config.py.solution`."
   ]
  },
  {
   "cell_type": "code",
   "execution_count": 40,
   "metadata": {},
   "outputs": [],
   "source": [
    "!rm -rf ./dates_eval_log"
   ]
  },
  {
   "cell_type": "code",
   "execution_count": 41,
   "metadata": {},
   "outputs": [
    {
     "ename": "SyntaxError",
     "evalue": "invalid syntax (dates_eval_config.py, line 94)",
     "output_type": "error",
     "traceback": [
      "\u001b[0;36m  File \u001b[0;32m\"dates_eval_config.py\"\u001b[0;36m, line \u001b[0;32m94\u001b[0m\n\u001b[0;31m    \"src_vocab_file\": <TODO>,\u001b[0m\n\u001b[0m                      ^\u001b[0m\n\u001b[0;31mSyntaxError\u001b[0m\u001b[0;31m:\u001b[0m invalid syntax\n"
     ]
    }
   ],
   "source": [
    "%%time\n",
    "\n",
    "run_open_seq2seq(\n",
    "    new_run, \n",
    "    '--config_file=dates_eval_config.py --mode=train_eval')"
   ]
  },
  {
   "cell_type": "markdown",
   "metadata": {},
   "source": [
    "In the above output, look for lines marked with 'Eval BLUE score'.  Observe how that score increases during the training run."
   ]
  },
  {
   "cell_type": "markdown",
   "metadata": {},
   "source": [
    "# Real Use Case\n",
    "\n",
    "\n",
    "\n",
    "\n",
    "We now have a better understanding of what attention can be used for.  Next we will try an actual Neural Machine Translation model for translating from German to English.\n",
    "\n",
    "But first, we need to discuss an important point in Machine Translation as well as other NLP tasks:  BPE representation.\n",
    "\n",
    "### BPE\n",
    "BPE stands for byte pair encoding. It means that common byte pairs - bigrams of characters in our case - are replaced by a byte which never occurs in the corpus. For example, in our corpus we have never seen the \"#\" char so we could use it to represent some typical bigram like \"ie\". In practice, however, all the printable characters are used, so we use the unprintable part of the codepage for BPE.  In order actually print the text, we need to reformat it back. So you'll see \"@@\" in text - these are artifacts from such renormalization.\n",
    "\n",
    "Here is an example text in German, which will be translated in English by our model."
   ]
  },
  {
   "cell_type": "code",
   "execution_count": 42,
   "metadata": {},
   "outputs": [
    {
     "name": "stdout",
     "output_type": "stream",
     "text": [
      "Die Premierminister Indi@@ ens und Japans tra@@ fen sich in Tok@@ io .\r\n",
      "Indi@@ ens neuer Premierminister Nar@@ end@@ ra Mo@@ di trifft bei seinem ersten wichtigen Auslands@@ besu@@ ch seit seinem Wahl@@ sie@@ g im Mai seinen japanischen Amts@@ kol@@ legen Shin@@ zo A@@ be in Tok@@ o , um wirtschaftliche und sicherheits@@ politische Beziehungen zu bes@@ prechen .\r\n",
      "Herr Mo@@ di befindet sich auf einer fünf@@ tä@@ gigen Reise nach Japan , um die wirtschaftlichen Beziehungen mit der d@@ ritt@@ größten Wirtschafts@@ nation der Welt zu festigen .\r\n",
      "Pläne für eine stärkere kern@@ technische Zusammenarbeit stehen ganz oben auf der Tagesordnung .\r\n",
      "Berichten zufolge ho@@ fft Indien darüber hinaus auf einen Vertrag zur Verteidigungs@@ zusammenarbeit zwischen den beiden Nationen .\r\n",
      "Polizei von Kar@@ ra@@ tha verhaftet 20-@@ J@@ ähri@@ gen nach schneller Motor@@ rad@@ j@@ ag@@ d\r\n",
      "Ein Motor@@ rad wurde besch@@ la@@ gn@@ ah@@ mt , nachdem der Fahrer es mit 125 km / h in einer 70 km / h-@@ Zone und durch Bu@@ sch@@ land gefahren hatte , um der Polizei in Bil@@ bara zu ent@@ kommen .\r\n",
      "Verkehrs@@ poli@@ zi@@ sten in Kar@@ ra@@ tha versu@@ chten heute morgen , ein blau@@ es Motor@@ rad zu stoppen , nachdem sie es dabei beobachtet hatten , wie es mit 125 km / h eine Tank@@ stelle auf der Ba@@ th@@ date Road ver@@ ließ .\r\n",
      "Die Polizei berichtet , dass der Fahrer die Hal@@ te@@ sign@@ ale dann ignori@@ erte und weiter auf der Bur@@ ges@@ s Road fuhr , bevor er in das Bu@@ sch@@ land ab@@ bo@@ g , wo die Beamten es aus den Augen verloren .\r\n",
      "Das Motor@@ rad sowie eine Person , die der Beschreibung des Fahr@@ ers entsp@@ ra@@ ch wurden später bei einem Haus im Wal@@ cot@@ t Way in Bul@@ gar@@ ra gesehen .\r\n"
     ]
    }
   ],
   "source": [
    "!head /dli/data/wmt/newstest2015.tok.bpe.32000.de"
   ]
  },
  {
   "cell_type": "markdown",
   "metadata": {},
   "source": [
    "\n",
    "Let's see what our results are."
   ]
  },
  {
   "cell_type": "code",
   "execution_count": 43,
   "metadata": {},
   "outputs": [
    {
     "name": "stdout",
     "output_type": "stream",
     "text": [
      ">==================> Running in inference mode\n",
      ">==================> Executing training mode\n",
      ">==================> Creating data layer\n",
      "WARNING: skipped 0 pairs with max source size of 0 and max target size of 0\n",
      ">==================> Data layer created\n",
      ">==================> Building graph on GPU:0\n",
      "Inference Mode. Loss part of graph isn't built.\n",
      "INFO:tensorflow:Graph was finalized.\n",
      "INFO:tensorflow:Running local_init_op.\n",
      "INFO:tensorflow:Done running local_init_op.\n",
      ">==================> Trying to restore from: /dli/data/noatt/model-59244\n",
      "INFO:tensorflow:Restoring parameters from /dli/data/noatt/model-59244\n",
      ">==================> Saving inference results to: baseline.txt\n",
      "Prime Minister India and Japan met in Tokyo . </S> </S> </S>\n",
      "Federal Government and Bun@@ de@@ stag not joined . </S> </S> </S> </S> </S> </S> </S> </S> </S> </S> </S> </S> </S> </S> </S> </S> </S> </S> </S>\n",
      "I wonder him if he will ever make a booth up com@@ ed@@ y@@ tour . </S> </S> </S> </S> </S>\n",
      "A@@ il@@ inn Sol@@ om@@ ons was a delicate beauty with un@@ attended hair and a flat heart from a village on the G@@ ordin@@ sel , which was even remote and rough than Port Re@@ ub@@ en . </S> </S>\n",
      "Some gran@@ at@@ ers are still in my kne@@ e . </S>\n",
      "If your camera has a remote mode , using a series of images with slightly changing exposure settings , use it . </S> </S> </S> </S>\n",
      "And those who resist claims know that the time is for them , but certainly not with the pla@@ ins . </S> </S> </S>\n",
      "The villa is probably from the first to the fourth century to Christ until the invasion of the German@@ ans in the Roman R@@ land , suspec@@ ted of Mor@@ schei@@ ser . </S> </S>\n",
      "As Ro@@ d@@ gers was 13 , she believed that she believed that Fried@@ ge A@@ tax@@ ia ( F@@ As ) - a disease with very bad survival . </S> </S> </S>\n",
      "Even a year ago there was no good climate between the Burg@@ verein and the castle of Wol@@ fr@@ at@@ sh@@ au@@ sen . </S> </S> </S> </S> </S> </S>\n",
      "In the meantime , the area has reg@@ ain its importance , because , on the me@@ ado@@ ws , the me@@ ado@@ ws prevail . </S> </S> </S> </S> </S> </S> </S>\n",
      ">==================> Inference finished\n"
     ]
    }
   ],
   "source": [
    "run_open_seq2seq(\n",
    "    old_run, \n",
    "    '--config_file=old_s2s/example_configs/nmt.json --logdir=/dli/data/nmt --mode=infer --inference_out=pred.txt')"
   ]
  },
  {
   "cell_type": "markdown",
   "metadata": {},
   "source": [
    "Open up [pred.txt](pred.txt) to compare to [baseline.txt](baseline.txt) to see the difference attention makes in the overall quality of the translation. Training with more epochs will improve and possibly to get to the translation that you've identified as the best in the first part of the lab. "
   ]
  },
  {
   "cell_type": "markdown",
   "metadata": {},
   "source": [
    "## Assessment - BLEU score\n",
    "\n",
    "In this final part, you are going to implement the Bilingual Evaluation Understudy, or BLUE, Score to assess the effectiveness of translations as a ratio. Completely mismatched results will be scored as 0.0, and the perfect translation will be scored as 1.0. There are various formulas applied to sentence, corpus or any length translation, but it's meant to be a good proxy to compare various implementations. Our date translation examples are simple, but BLEU score is also meant to encapsulate how a human would rate the translation for language translations.\n",
    "\n",
    "<img src=\"images/BLEU.png\" style=\"width:600;height:300px;\">\n",
    "\n",
    "The BLEU could be described as the overlap of single tokens and sequences of tokens (2, 3 or 4) - this is $precision_i$.\n",
    "And also brevity penalty of $\\frac{output-length}{reference - length}$ is applied in the formula.\n",
    "\n",
    "We will split each ground truth to one character at a time and also the predicted value. BLEU score works on the 1-4 ngrams so we need to supply at least 4 ngrams in our predictions. If we had a string 2007-07-11, we can split it into tokens 2007, 07 and 11. For exact matches, the score is 1.0 but for small variations like one character off, it makes the score lower than it should be. We will call this string score implemented in `str_score`.\n",
    "\n",
    "Alternatively, we can convert it to list of ['2', '0', '0', '7', '-', '0', '7', '-', '1', '1'] by making a token of every single character, including dashes to get the higher score. It should be implemented in `char_score`. Let's compare the two implementations and the BLEU scores they calculate.\n",
    "\n",
    "For your reference: parameters for sentence_bleu function are as follows:\t\n",
    "references (list(list(str))) – A list of reference translations<br>\n",
    "hypothesis (list(str)) – A hypothesis translation\n",
    "\n",
    "### Generate the right BLEU scores\n",
    "\n",
    "Change the code for how the strings are being prepared and compared in [my_bleu.py](../../../../edit/tasks/task3/task/my_bleu.py) for both type of BLEU score calculations. Save your changes to fix BLEU score calculation.\n",
    "\n",
    "Hint: Look at the actual output compared to the expected reference/output on which BLEU score is being checked\n",
    "\n",
    "**After completing this, go back in the browser page you used to open this notebook and click the ASSESS TASK button. If you have implemented BLEU score correctly and passed all the other assessment questions, you will receive certification for your competency in the Deep Learning for NLP.**"
   ]
  },
  {
   "cell_type": "code",
   "execution_count": 1,
   "metadata": {},
   "outputs": [
    {
     "name": "stdout",
     "output_type": "stream",
     "text": [
      "1.0\n",
      "1.0\n",
      "0.7598356856515925\n",
      "0.8801117367933934\n"
     ]
    }
   ],
   "source": [
    "# Test your implementation\n",
    "# Kernel->restart will ensure the latest version of my_bleu.py is imported if you made any changes to the code to re-test\n",
    "\n",
    "import my_bleu as mb\n",
    "\n",
    "output1 = '2007-07-11<pad><pad><pad><pad><pad><pad><pad><pad><pad><pad>'\n",
    "expected = '2007-07-11'\n",
    "\n",
    "print(mb.str_score(output1, expected))    #expecting 1.0\n",
    "print(mb.char_score(output1, expected)) # expecting 1.0\n",
    "\n",
    "output2 = '2007-07-12<pad><pad><pad><pad><pad><pad><pad><pad><pad><pad>' #it's 12 instead of 011\n",
    "\n",
    "print(mb.str_score(output2, expected))    #expecting 0.7598356856515925\n",
    "print(mb.char_score(output2, expected)) #expecting 0.8801117367933934"
   ]
  },
  {
   "cell_type": "markdown",
   "metadata": {
    "collapsed": true
   },
   "source": [
    "# [Optional] Experiment with Beam Search\n",
    "\n",
    "As we've seen, attention changes the probability of which character to focus on in a given sequence. There are other strategies we can apply to improve the results of the translation. Beam search is one such popular heuristic. It works by returning a list of output *sequences* that are most likely for a given input. It does this by exploring all of the possible next steps, and then chooses the most promising $k$ candidates from all possibilities. Those candidates form a 'beam' of directions, where the algorithm expands the search through each candidate's sequence of probabilities. \n",
    "\n",
    "The larger the beam, the better the performance of the model. Since there are more candidate sequences this means the likelihood of finding the right answer increases. However, it requires more decoding, meaning a direct tradeoff with the quality of results versus accuracy. Seeding beam search with the most likely next words in a sequence can yield good results. The beam search would generate the resulting sequence, starting from the first word and appending, while exploring all the candidates (size of the beam) every step of the way.\n",
    "\n",
    "We have started the beginning of beam search to generate samples with the following code:"
   ]
  },
  {
   "cell_type": "code",
   "execution_count": 45,
   "metadata": {},
   "outputs": [
    {
     "name": "stdout",
     "output_type": "stream",
     "text": [
      "_________________________________________________________________\n",
      "Layer (type)                 Output Shape              Param #   \n",
      "=================================================================\n",
      "input_10 (InputLayer)        (None, 20)                0         \n",
      "_________________________________________________________________\n",
      "embedding_8 (Embedding)      (None, 20, 64)            3968      \n",
      "_________________________________________________________________\n",
      "bidirectional_8 (Bidirection (None, 20, 128)           66048     \n",
      "_________________________________________________________________\n",
      "lstm_16 (LSTM)               (None, 20, 64)            49408     \n",
      "_________________________________________________________________\n",
      "time_distributed_4 (TimeDist (None, 20, 15)            975       \n",
      "=================================================================\n",
      "Total params: 120,399\n",
      "Trainable params: 120,399\n",
      "Non-trainable params: 0\n",
      "_________________________________________________________________\n",
      "None\n"
     ]
    }
   ],
   "source": [
    "m = model_simple_nmt(len(human_vocab), len(machine_vocab))\n",
    "\n",
    "m.compile(optimizer='adam', loss='categorical_crossentropy', metrics=['accuracy'])\n",
    "print(m.summary())"
   ]
  },
  {
   "cell_type": "code",
   "execution_count": 46,
   "metadata": {},
   "outputs": [],
   "source": [
    "inputs, targets = zip(*dataset)\n",
    "inputs = np.array([string_to_int(i, 20, human_vocab) for i in inputs])\n",
    "targets = [string_to_int(t, 20, machine_vocab) for t in targets]\n",
    "targets = np.array(list(map(lambda x: to_categorical(x, num_classes=len(machine_vocab)), targets)))"
   ]
  },
  {
   "cell_type": "code",
   "execution_count": 47,
   "metadata": {},
   "outputs": [
    {
     "name": "stdout",
     "output_type": "stream",
     "text": [
      "Train on 9000 samples, validate on 1000 samples\n",
      "Epoch 1/1\n",
      "9000/9000 [==============================] - 17s 2ms/step - loss: 1.2946 - acc: 0.5768 - val_loss: 0.9407 - val_acc: 0.6182\n"
     ]
    },
    {
     "data": {
      "text/plain": [
       "<keras.callbacks.History at 0x7f4670254e48>"
      ]
     },
     "execution_count": 47,
     "metadata": {},
     "output_type": "execute_result"
    }
   ],
   "source": [
    "m.fit([inputs], targets, epochs=1, batch_size=64, validation_split=0.1)"
   ]
  },
  {
   "cell_type": "code",
   "execution_count": 48,
   "metadata": {},
   "outputs": [],
   "source": [
    "def keras_rnn_predict(samples, empty=human_vocab[\"<pad>\"], rnn_model=m, maxlen=30):\n",
    "    \"\"\"for every sample, calculate probability for every possible label\n",
    "    you need to supply your RNN model and maxlen - the length of sequences it can handle\n",
    "    \"\"\"\n",
    "    data = sequence.pad_sequences(samples, maxlen=maxlen, value=empty)\n",
    "    return rnn_model.predict(data, verbose=0)"
   ]
  },
  {
   "cell_type": "markdown",
   "metadata": {},
   "source": [
    "Here we'll try to generate some dates from our model to demonstrate beam search properties:"
   ]
  },
  {
   "cell_type": "code",
   "execution_count": 49,
   "metadata": {},
   "outputs": [],
   "source": [
    "def beamsearch(predict=keras_rnn_predict, k=1, maxsample=10, \n",
    "               use_unk=False, \n",
    "               oov=human_vocab[\"<unk>\"], \n",
    "               empty=human_vocab[\"<pad>\"], \n",
    "               eos=human_vocab[\"<unk>\"]):\n",
    "    \"\"\"return k samples (beams) and their NLL scores, each sample is a sequence of labels,\n",
    "    all samples starts with an `empty` label and end with `eos` or truncated to length of `maxsample`.\n",
    "    You need to supply `predict` which returns the label probability of each sample.\n",
    "    `use_unk` allow usage of `oov` (out-of-vocabulary) label in samples\n",
    "    \"\"\"\n",
    "    \n",
    "    dead_k = 0 # samples that reached eos\n",
    "    dead_samples = []\n",
    "    dead_scores = []\n",
    "    live_k = 1 # samples that did not yet reached eos\n",
    "    live_samples = [[empty]]\n",
    "    live_scores = [0]\n",
    "\n",
    "    while live_k and dead_k < k:\n",
    "        # for every possible live sample calc prob for every possible label \n",
    "        probs = predict(live_samples, empty=empty)\n",
    "\n",
    "        # total score for every sample is sum of -log of word prb\n",
    "        cand_scores = np.array(live_scores)[:,None] - np.log(probs)\n",
    "        if not use_unk and oov is not None:\n",
    "            cand_scores[:,oov] = 1e20\n",
    "        cand_flat = cand_scores.flatten()\n",
    "\n",
    "        # find the best (lowest) scores we have from all possible samples and new words\n",
    "        ranks_flat = cand_flat.argsort()[:(k-dead_k)]\n",
    "        live_scores = cand_flat[ranks_flat]\n",
    "\n",
    "        # append the new words to their appropriate live sample\n",
    "        voc_size = probs.shape[1]\n",
    "        live_samples = [live_samples[r//voc_size]+[r%voc_size] for r in ranks_flat]\n",
    "\n",
    "        # live samples that should be dead are...\n",
    "        zombie = [s[-1] == eos or len(s) >= maxsample for s in live_samples]\n",
    "        \n",
    "        # add zombies to the dead\n",
    "        dead_samples += [s for s,z in zip(live_samples,zombie) if z]  # remove first label == empty\n",
    "        dead_scores += [s for s,z in zip(live_scores,zombie) if z]\n",
    "        dead_k = len(dead_samples)\n",
    "        # remove zombies from the living \n",
    "        live_samples = [s for s,z in zip(live_samples,zombie) if not z]\n",
    "        live_scores = [s for s,z in zip(live_scores,zombie) if not z]\n",
    "        live_k = len(live_samples)\n",
    "\n",
    "    return live_samples + dead_samples, live_scores + dead_scores"
   ]
  },
  {
   "cell_type": "markdown",
   "metadata": {},
   "source": [
    "# Summary\n",
    "\n",
    "In this lab, we discussed the use of Deep Learning for performing Machine Learning.  We experimented with a simple problem of converting dates from a human to a machine-readable form.  We then improved the model using attention. Finally, we explored the use of beam search.\n",
    "\n",
    "In this lab we focus on *supervised* Machine Translation.  This directly implies that we need labeled corpora.  However, for languages with little or no labeled data, this is very unlikely.  A fascinating avenue of research is the use of *unsupervised* MT, which does not require such corpora.    \n",
    "\n",
    "Machine Translation is an enabling tool to bring various people and cultures around the world closer together.  The tools and techniques you have seen in this lab can help make this a reality.  "
   ]
  },
  {
   "cell_type": "markdown",
   "metadata": {},
   "source": [
    "__Acknowledgements__: \n",
    "\n",
    "The idea of date translation is borrowed from https://github.com/datalogue/keras-attention.\n",
    "\n"
   ]
  },
  {
   "cell_type": "markdown",
   "metadata": {},
   "source": [
    "<img src=\"images/DLI Header.png\" alt=\"Header\" style=\"width: 400px;\"/>"
   ]
  },
  {
   "cell_type": "code",
   "execution_count": null,
   "metadata": {},
   "outputs": [],
   "source": []
  },
  {
   "cell_type": "code",
   "execution_count": null,
   "metadata": {},
   "outputs": [],
   "source": []
  }
 ],
 "metadata": {
  "anaconda-cloud": {},
  "kernelspec": {
   "display_name": "Python 3",
   "language": "python",
   "name": "python3"
  },
  "language_info": {
   "codemirror_mode": {
    "name": "ipython",
    "version": 3
   },
   "file_extension": ".py",
   "mimetype": "text/x-python",
   "name": "python",
   "nbconvert_exporter": "python",
   "pygments_lexer": "ipython3",
   "version": "3.5.2"
  }
 },
 "nbformat": 4,
 "nbformat_minor": 2
}
